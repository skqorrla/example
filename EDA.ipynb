{
 "cells": [
  {
   "cell_type": "code",
   "execution_count": 1,
   "metadata": {},
   "outputs": [],
   "source": [
    "import pandas as pd"
   ]
  },
  {
   "cell_type": "code",
   "execution_count": 221,
   "metadata": {},
   "outputs": [],
   "source": [
    "# 데이터 불러오기\n",
    "a_hh = pd.read_csv(\"C:/Users/user/Desktop/중간프로젝트/의료패널 데이터/csv파일/a_hh.csv\")\n",
    "a_id = pd.read_csv(\"C:/Users/user/Desktop/중간프로젝트/의료패널 데이터/csv파일/a_id.csv\")\n",
    "a_ind = pd.read_csv(\"C:/Users/user/Desktop/중간프로젝트/의료패널 데이터/csv파일/a_ind.csv\")\n",
    "a_ms = pd.read_csv(\"C:/Users/user/Desktop/중간프로젝트/의료패널 데이터/csv파일/a_ms.csv\")\n",
    "a_phi = pd.read_csv(\"C:/Users/user/Desktop/중간프로젝트/의료패널 데이터/csv파일/a_phi.csv\")\n",
    "\n",
    "b_hh = pd.read_csv(\"C:/Users/user/Desktop/중간프로젝트/의료패널 데이터/csv파일/b_hh.csv\")\n",
    "b_id = pd.read_csv(\"C:/Users/user/Desktop/중간프로젝트/의료패널 데이터/csv파일/b_id.csv\")\n",
    "b_ind = pd.read_csv(\"C:/Users/user/Desktop/중간프로젝트/의료패널 데이터/csv파일/b_ind.csv\")\n",
    "b_ms = pd.read_csv(\"C:/Users/user/Desktop/중간프로젝트/의료패널 데이터/csv파일/b_ms.csv\")\n",
    "b_phi = pd.read_csv(\"C:/Users/user/Desktop/중간프로젝트/의료패널 데이터/csv파일/b_phi.csv\")\n",
    "\n",
    "c_hh = pd.read_csv(\"C:/Users/user/Desktop/중간프로젝트/의료패널 데이터/csv파일/c_hh.csv\")\n",
    "c_id = pd.read_csv(\"C:/Users/user/Desktop/중간프로젝트/의료패널 데이터/csv파일/c_id.csv\")\n",
    "c_ind = pd.read_csv(\"C:/Users/user/Desktop/중간프로젝트/의료패널 데이터/csv파일/c_ind.csv\")\n",
    "c_ms = pd.read_csv(\"C:/Users/user/Desktop/중간프로젝트/의료패널 데이터/csv파일/c_ms.csv\")\n",
    "c_phi = pd.read_csv(\"C:/Users/user/Desktop/중간프로젝트/의료패널 데이터/csv파일/c_phi.csv\")"
   ]
  },
  {
   "cell_type": "markdown",
   "metadata": {},
   "source": [
    "# PHI 데이터 구조 확인"
   ]
  },
  {
   "cell_type": "code",
   "execution_count": 222,
   "metadata": {},
   "outputs": [],
   "source": [
    "# a -> 19, b -> 20, c->21 각 데이터에 연도 컬럼 추가하기\n",
    "a_phi[\"year\"] = 2019\n",
    "b_phi[\"year\"] = 2020\n",
    "c_phi[\"year\"] = 2021"
   ]
  },
  {
   "cell_type": "code",
   "execution_count": 223,
   "metadata": {},
   "outputs": [
    {
     "data": {
      "text/plain": [
       "(21538, 26)"
      ]
     },
     "execution_count": 223,
     "metadata": {},
     "output_type": "execute_result"
    }
   ],
   "source": [
    "a_phi.shape"
   ]
  },
  {
   "cell_type": "code",
   "execution_count": 224,
   "metadata": {},
   "outputs": [
    {
     "data": {
      "text/plain": [
       "(21345, 26)"
      ]
     },
     "execution_count": 224,
     "metadata": {},
     "output_type": "execute_result"
    }
   ],
   "source": [
    "b_phi.shape"
   ]
  },
  {
   "cell_type": "code",
   "execution_count": 225,
   "metadata": {},
   "outputs": [
    {
     "data": {
      "text/plain": [
       "(21392, 26)"
      ]
     },
     "execution_count": 225,
     "metadata": {},
     "output_type": "execute_result"
    }
   ],
   "source": [
    "c_phi.shape"
   ]
  },
  {
   "cell_type": "code",
   "execution_count": 228,
   "metadata": {},
   "outputs": [
    {
     "data": {
      "text/html": [
       "<div>\n",
       "<style scoped>\n",
       "    .dataframe tbody tr th:only-of-type {\n",
       "        vertical-align: middle;\n",
       "    }\n",
       "\n",
       "    .dataframe tbody tr th {\n",
       "        vertical-align: top;\n",
       "    }\n",
       "\n",
       "    .dataframe thead th {\n",
       "        text-align: right;\n",
       "    }\n",
       "</style>\n",
       "<table border=\"1\" class=\"dataframe\">\n",
       "  <thead>\n",
       "    <tr style=\"text-align: right;\">\n",
       "      <th></th>\n",
       "      <th>HHID</th>\n",
       "      <th>PHI_N</th>\n",
       "      <th>PHI_PID</th>\n",
       "      <th>PHI_PID1</th>\n",
       "      <th>PHI_PID2</th>\n",
       "      <th>PHI_PID3</th>\n",
       "      <th>PHI_PID4</th>\n",
       "      <th>PHI_PID5</th>\n",
       "    </tr>\n",
       "  </thead>\n",
       "  <tbody>\n",
       "    <tr>\n",
       "      <th>0</th>\n",
       "      <td>144191011.0</td>\n",
       "      <td>301.0</td>\n",
       "      <td>...</td>\n",
       "      <td>14419101.0</td>\n",
       "      <td>NaN</td>\n",
       "      <td>NaN</td>\n",
       "      <td>NaN</td>\n",
       "      <td>NaN</td>\n",
       "    </tr>\n",
       "    <tr>\n",
       "      <th>1</th>\n",
       "      <td>244007011.0</td>\n",
       "      <td>201.0</td>\n",
       "      <td>...</td>\n",
       "      <td>24400702.0</td>\n",
       "      <td>NaN</td>\n",
       "      <td>NaN</td>\n",
       "      <td>NaN</td>\n",
       "      <td>NaN</td>\n",
       "    </tr>\n",
       "    <tr>\n",
       "      <th>2</th>\n",
       "      <td>112185011.0</td>\n",
       "      <td>102.0</td>\n",
       "      <td>...</td>\n",
       "      <td>11218502.0</td>\n",
       "      <td>NaN</td>\n",
       "      <td>NaN</td>\n",
       "      <td>NaN</td>\n",
       "      <td>NaN</td>\n",
       "    </tr>\n",
       "    <tr>\n",
       "      <th>3</th>\n",
       "      <td>125103011.0</td>\n",
       "      <td>109.0</td>\n",
       "      <td>...</td>\n",
       "      <td>12510302.0</td>\n",
       "      <td>NaN</td>\n",
       "      <td>NaN</td>\n",
       "      <td>NaN</td>\n",
       "      <td>NaN</td>\n",
       "    </tr>\n",
       "    <tr>\n",
       "      <th>4</th>\n",
       "      <td>232548011.0</td>\n",
       "      <td>201.0</td>\n",
       "      <td>...</td>\n",
       "      <td>23254802.0</td>\n",
       "      <td>NaN</td>\n",
       "      <td>NaN</td>\n",
       "      <td>NaN</td>\n",
       "      <td>NaN</td>\n",
       "    </tr>\n",
       "    <tr>\n",
       "      <th>...</th>\n",
       "      <td>...</td>\n",
       "      <td>...</td>\n",
       "      <td>...</td>\n",
       "      <td>...</td>\n",
       "      <td>...</td>\n",
       "      <td>...</td>\n",
       "      <td>...</td>\n",
       "      <td>...</td>\n",
       "    </tr>\n",
       "    <tr>\n",
       "      <th>21340</th>\n",
       "      <td>155292011.0</td>\n",
       "      <td>207.0</td>\n",
       "      <td>...</td>\n",
       "      <td>15529202.0</td>\n",
       "      <td>NaN</td>\n",
       "      <td>NaN</td>\n",
       "      <td>NaN</td>\n",
       "      <td>NaN</td>\n",
       "    </tr>\n",
       "    <tr>\n",
       "      <th>21341</th>\n",
       "      <td>214255011.0</td>\n",
       "      <td>203.0</td>\n",
       "      <td>...</td>\n",
       "      <td>21425502.0</td>\n",
       "      <td>NaN</td>\n",
       "      <td>NaN</td>\n",
       "      <td>NaN</td>\n",
       "      <td>NaN</td>\n",
       "    </tr>\n",
       "    <tr>\n",
       "      <th>21342</th>\n",
       "      <td>214202011.0</td>\n",
       "      <td>106.0</td>\n",
       "      <td>...</td>\n",
       "      <td>21420202.0</td>\n",
       "      <td>NaN</td>\n",
       "      <td>NaN</td>\n",
       "      <td>NaN</td>\n",
       "      <td>NaN</td>\n",
       "    </tr>\n",
       "    <tr>\n",
       "      <th>21343</th>\n",
       "      <td>122154011.0</td>\n",
       "      <td>102.0</td>\n",
       "      <td>12215401/12215402/12215404/12215405</td>\n",
       "      <td>12215401.0</td>\n",
       "      <td>12215402.0</td>\n",
       "      <td>12215404.0</td>\n",
       "      <td>12215405.0</td>\n",
       "      <td>NaN</td>\n",
       "    </tr>\n",
       "    <tr>\n",
       "      <th>21344</th>\n",
       "      <td>202253011.0</td>\n",
       "      <td>101.0</td>\n",
       "      <td>20225301/20225302/20225303/20225304</td>\n",
       "      <td>20225301.0</td>\n",
       "      <td>20225302.0</td>\n",
       "      <td>20225303.0</td>\n",
       "      <td>20225304.0</td>\n",
       "      <td>NaN</td>\n",
       "    </tr>\n",
       "  </tbody>\n",
       "</table>\n",
       "<p>21345 rows × 8 columns</p>\n",
       "</div>"
      ],
      "text/plain": [
       "              HHID  PHI_N                                            PHI_PID  \\\n",
       "0      144191011.0  301.0                                                ...   \n",
       "1      244007011.0  201.0                                                ...   \n",
       "2      112185011.0  102.0                                                ...   \n",
       "3      125103011.0  109.0                                                ...   \n",
       "4      232548011.0  201.0                                                ...   \n",
       "...            ...    ...                                                ...   \n",
       "21340  155292011.0  207.0                                                ...   \n",
       "21341  214255011.0  203.0                                                ...   \n",
       "21342  214202011.0  106.0                                                ...   \n",
       "21343  122154011.0  102.0                12215401/12215402/12215404/12215405   \n",
       "21344  202253011.0  101.0                20225301/20225302/20225303/20225304   \n",
       "\n",
       "         PHI_PID1    PHI_PID2    PHI_PID3    PHI_PID4  PHI_PID5  \n",
       "0      14419101.0         NaN         NaN         NaN       NaN  \n",
       "1      24400702.0         NaN         NaN         NaN       NaN  \n",
       "2      11218502.0         NaN         NaN         NaN       NaN  \n",
       "3      12510302.0         NaN         NaN         NaN       NaN  \n",
       "4      23254802.0         NaN         NaN         NaN       NaN  \n",
       "...           ...         ...         ...         ...       ...  \n",
       "21340  15529202.0         NaN         NaN         NaN       NaN  \n",
       "21341  21425502.0         NaN         NaN         NaN       NaN  \n",
       "21342  21420202.0         NaN         NaN         NaN       NaN  \n",
       "21343  12215401.0  12215402.0  12215404.0  12215405.0       NaN  \n",
       "21344  20225301.0  20225302.0  20225303.0  20225304.0       NaN  \n",
       "\n",
       "[21345 rows x 8 columns]"
      ]
     },
     "execution_count": 228,
     "metadata": {},
     "output_type": "execute_result"
    }
   ],
   "source": [
    "b_phi.iloc[:,:8]"
   ]
  },
  {
   "cell_type": "code",
   "execution_count": null,
   "metadata": {},
   "outputs": [],
   "source": []
  },
  {
   "cell_type": "markdown",
   "metadata": {},
   "source": [
    "# 전처리"
   ]
  },
  {
   "cell_type": "markdown",
   "metadata": {},
   "source": [
    "## 데이터 병합"
   ]
  },
  {
   "cell_type": "code",
   "execution_count": 107,
   "metadata": {},
   "outputs": [],
   "source": [
    "a = a_phi.columns\n",
    "b = b_phi.columns\n",
    "c = c_phi.columns"
   ]
  },
  {
   "cell_type": "code",
   "execution_count": 108,
   "metadata": {},
   "outputs": [
    {
     "data": {
      "text/plain": [
       "Index(['HHID', 'PHI_N', 'PHI_PID', 'PHI_PID1', 'PHI_PID2', 'PHI_PID3',\n",
       "       'PHI_PID4', 'PHI_PID5', 'PHI1', 'PHI2', 'PHI3', 'PHI4', 'PHI4_1_D',\n",
       "       'PHI4_2_D', 'PHI4_3_D', 'PHI4_4_D', 'PHI4_5_D', 'PHI4_6_D', 'PHI4_7_D',\n",
       "       'PHI4_8_D', 'PHI5', 'PHI6', 'PHR1', 'PHR2', 'PHR3', 'year'],\n",
       "      dtype='object')"
      ]
     },
     "execution_count": 108,
     "metadata": {},
     "output_type": "execute_result"
    }
   ],
   "source": [
    "a"
   ]
  },
  {
   "cell_type": "code",
   "execution_count": 109,
   "metadata": {},
   "outputs": [
    {
     "data": {
      "text/plain": [
       "array([ True,  True,  True,  True,  True,  True,  True,  True,  True,\n",
       "        True,  True,  True,  True,  True,  True,  True,  True,  True,\n",
       "        True,  True,  True,  True,  True,  True,  True,  True])"
      ]
     },
     "execution_count": 109,
     "metadata": {},
     "output_type": "execute_result"
    }
   ],
   "source": [
    "a == b"
   ]
  },
  {
   "cell_type": "code",
   "execution_count": 110,
   "metadata": {},
   "outputs": [
    {
     "data": {
      "text/plain": [
       "array([ True,  True,  True,  True,  True,  True,  True,  True,  True,\n",
       "        True,  True,  True,  True,  True,  True,  True,  True,  True,\n",
       "        True,  True,  True,  True,  True,  True,  True,  True])"
      ]
     },
     "execution_count": 110,
     "metadata": {},
     "output_type": "execute_result"
    }
   ],
   "source": [
    "a == c"
   ]
  },
  {
   "cell_type": "code",
   "execution_count": 111,
   "metadata": {},
   "outputs": [
    {
     "data": {
      "text/plain": [
       "array([ True,  True,  True,  True,  True,  True,  True,  True,  True,\n",
       "        True,  True,  True,  True,  True,  True,  True,  True,  True,\n",
       "        True,  True,  True,  True,  True,  True,  True,  True])"
      ]
     },
     "execution_count": 111,
     "metadata": {},
     "output_type": "execute_result"
    }
   ],
   "source": [
    "b == c"
   ]
  },
  {
   "cell_type": "markdown",
   "metadata": {},
   "source": [
    "- a, b, c는 모두 같은 컬럼을 갖는다."
   ]
  },
  {
   "cell_type": "code",
   "execution_count": 112,
   "metadata": {},
   "outputs": [
    {
     "data": {
      "text/plain": [
       "(64275, 26)"
      ]
     },
     "execution_count": 112,
     "metadata": {},
     "output_type": "execute_result"
    }
   ],
   "source": [
    "# 병합\n",
    "phi = pd.concat([a_phi, b_phi, c_phi])\n",
    "phi.shape"
   ]
  },
  {
   "cell_type": "code",
   "execution_count": 200,
   "metadata": {},
   "outputs": [
    {
     "data": {
      "text/plain": [
       "year\n",
       "2019    21538\n",
       "2021    21392\n",
       "2020    21345\n",
       "Name: count, dtype: int64"
      ]
     },
     "execution_count": 200,
     "metadata": {},
     "output_type": "execute_result"
    }
   ],
   "source": [
    "phi[\"year\"].value_counts()"
   ]
  },
  {
   "cell_type": "markdown",
   "metadata": {},
   "source": [
    "## 변수명 변경"
   ]
  },
  {
   "cell_type": "code",
   "execution_count": 113,
   "metadata": {},
   "outputs": [
    {
     "data": {
      "text/plain": [
       "Index(['HHID', 'PHI_N', 'PHI_PID', 'PHI_PID1', 'PHI_PID2', 'PHI_PID3',\n",
       "       'PHI_PID4', 'PHI_PID5', 'PHI1', 'PHI2', 'PHI3', 'PHI4', 'PHI4_1_D',\n",
       "       'PHI4_2_D', 'PHI4_3_D', 'PHI4_4_D', 'PHI4_5_D', 'PHI4_6_D', 'PHI4_7_D',\n",
       "       'PHI4_8_D', 'PHI5', 'PHI6', 'PHR1', 'PHR2', 'PHR3', 'year'],\n",
       "      dtype='object')"
      ]
     },
     "execution_count": 113,
     "metadata": {},
     "output_type": "execute_result"
    }
   ],
   "source": [
    "phi.columns"
   ]
  },
  {
   "cell_type": "code",
   "execution_count": 114,
   "metadata": {},
   "outputs": [],
   "source": [
    "phi.columns = [\"HHID\", \"PHI_N\",\"PHI_PID\",\"PIDWON1\",\"PIDWON2\",\"PIDWON3\",\"PIDWON4\",\"PIDWON5\", \"PHI_Y\",\"PHI_M\",\"PHI_FORM\",\"PHI_TYPE\",\"PHI_TYPE_D\",\"PHI_TYPE_C\",\"PHI_TYPE_A\",\"PHI_TYPE_N\",\"PHI_TYPE_T\",\"PHI_TYPE_AL\",\"PHI_TYPE_M\",\"PHI_TYPE_O\",\"PHI_premium_yn\",\"PHI_premium\",\"PHI_claim_yn\",\"PHI_benefit_yn\",\"PHI_benefit\", \"year\"]"
   ]
  },
  {
   "cell_type": "code",
   "execution_count": 115,
   "metadata": {},
   "outputs": [
    {
     "data": {
      "text/plain": [
       "Index(['HHID', 'PHI_N', 'PHI_PID', 'PIDWON1', 'PIDWON2', 'PIDWON3', 'PIDWON4',\n",
       "       'PIDWON5', 'PHI_Y', 'PHI_M', 'PHI_FORM', 'PHI_TYPE', 'PHI_TYPE_D',\n",
       "       'PHI_TYPE_C', 'PHI_TYPE_A', 'PHI_TYPE_N', 'PHI_TYPE_T', 'PHI_TYPE_AL',\n",
       "       'PHI_TYPE_M', 'PHI_TYPE_O', 'PHI_premium_yn', 'PHI_premium',\n",
       "       'PHI_claim_yn', 'PHI_benefit_yn', 'PHI_benefit', 'year'],\n",
       "      dtype='object')"
      ]
     },
     "execution_count": 115,
     "metadata": {},
     "output_type": "execute_result"
    }
   ],
   "source": [
    "phi.columns"
   ]
  },
  {
   "cell_type": "markdown",
   "metadata": {},
   "source": [
    "## 결측값 변경"
   ]
  },
  {
   "cell_type": "code",
   "execution_count": 116,
   "metadata": {},
   "outputs": [
    {
     "data": {
      "text/plain": [
       "HHID                  0\n",
       "PHI_N                 0\n",
       "PHI_PID               0\n",
       "PIDWON1               0\n",
       "PIDWON2           63691\n",
       "PIDWON3           64158\n",
       "PIDWON4           64228\n",
       "PIDWON5           64273\n",
       "PHI_Y                 0\n",
       "PHI_M                 0\n",
       "PHI_FORM              0\n",
       "PHI_TYPE           9392\n",
       "PHI_TYPE_D         9392\n",
       "PHI_TYPE_C         9392\n",
       "PHI_TYPE_A         9392\n",
       "PHI_TYPE_N         9392\n",
       "PHI_TYPE_T         9392\n",
       "PHI_TYPE_AL        9392\n",
       "PHI_TYPE_M         9392\n",
       "PHI_TYPE_O         9392\n",
       "PHI_premium_yn        0\n",
       "PHI_premium           0\n",
       "PHI_claim_yn          0\n",
       "PHI_benefit_yn    59142\n",
       "PHI_benefit       59270\n",
       "year                  0\n",
       "dtype: int64"
      ]
     },
     "execution_count": 116,
     "metadata": {},
     "output_type": "execute_result"
    }
   ],
   "source": [
    "phi.isna().sum()"
   ]
  },
  {
   "cell_type": "code",
   "execution_count": null,
   "metadata": {},
   "outputs": [],
   "source": [
    "# -9 결측값으로 변경\n",
    "import numpy as np\n",
    "\n",
    "phi[phi==-9] = np.nan"
   ]
  },
  {
   "cell_type": "code",
   "execution_count": 120,
   "metadata": {},
   "outputs": [
    {
     "data": {
      "text/plain": [
       "HHID                  0\n",
       "PHI_N                 0\n",
       "PHI_PID               0\n",
       "PIDWON1               0\n",
       "PIDWON2           63691\n",
       "PIDWON3           64158\n",
       "PIDWON4           64228\n",
       "PIDWON5           64273\n",
       "PHI_Y              3895\n",
       "PHI_M             19577\n",
       "PHI_FORM            905\n",
       "PHI_TYPE           9392\n",
       "PHI_TYPE_D        10801\n",
       "PHI_TYPE_C        10801\n",
       "PHI_TYPE_A        10801\n",
       "PHI_TYPE_N        10801\n",
       "PHI_TYPE_T        10801\n",
       "PHI_TYPE_AL       10801\n",
       "PHI_TYPE_M        10801\n",
       "PHI_TYPE_O        10801\n",
       "PHI_premium_yn      803\n",
       "PHI_premium        3187\n",
       "PHI_claim_yn        462\n",
       "PHI_benefit_yn    59142\n",
       "PHI_benefit       59283\n",
       "year                  0\n",
       "dtype: int64"
      ]
     },
     "execution_count": 120,
     "metadata": {},
     "output_type": "execute_result"
    }
   ],
   "source": [
    "phi.isna().sum()"
   ]
  },
  {
   "cell_type": "markdown",
   "metadata": {},
   "source": [
    "## 가구 별 단독 가입만 추출"
   ]
  },
  {
   "cell_type": "code",
   "execution_count": 203,
   "metadata": {},
   "outputs": [
    {
     "data": {
      "text/html": [
       "<div>\n",
       "<style scoped>\n",
       "    .dataframe tbody tr th:only-of-type {\n",
       "        vertical-align: middle;\n",
       "    }\n",
       "\n",
       "    .dataframe tbody tr th {\n",
       "        vertical-align: top;\n",
       "    }\n",
       "\n",
       "    .dataframe thead th {\n",
       "        text-align: right;\n",
       "    }\n",
       "</style>\n",
       "<table border=\"1\" class=\"dataframe\">\n",
       "  <thead>\n",
       "    <tr style=\"text-align: right;\">\n",
       "      <th></th>\n",
       "      <th>HHID</th>\n",
       "      <th>PHI_N</th>\n",
       "      <th>PHI_PID</th>\n",
       "      <th>PIDWON1</th>\n",
       "      <th>PIDWON2</th>\n",
       "      <th>PIDWON3</th>\n",
       "      <th>PIDWON4</th>\n",
       "      <th>PIDWON5</th>\n",
       "      <th>PHI_Y</th>\n",
       "      <th>PHI_M</th>\n",
       "      <th>...</th>\n",
       "      <th>PHI_TYPE_T</th>\n",
       "      <th>PHI_TYPE_AL</th>\n",
       "      <th>PHI_TYPE_M</th>\n",
       "      <th>PHI_TYPE_O</th>\n",
       "      <th>PHI_premium_yn</th>\n",
       "      <th>PHI_premium</th>\n",
       "      <th>PHI_claim_yn</th>\n",
       "      <th>PHI_benefit_yn</th>\n",
       "      <th>PHI_benefit</th>\n",
       "      <th>year</th>\n",
       "    </tr>\n",
       "  </thead>\n",
       "  <tbody>\n",
       "    <tr>\n",
       "      <th>86</th>\n",
       "      <td>112075011.0</td>\n",
       "      <td>105.0</td>\n",
       "      <td>11207501,11207502</td>\n",
       "      <td>11207501.0</td>\n",
       "      <td>11207502.0</td>\n",
       "      <td>NaN</td>\n",
       "      <td>NaN</td>\n",
       "      <td>NaN</td>\n",
       "      <td>2003.0</td>\n",
       "      <td>8.0</td>\n",
       "      <td>...</td>\n",
       "      <td>2.0</td>\n",
       "      <td>2.0</td>\n",
       "      <td>2.0</td>\n",
       "      <td>2.0</td>\n",
       "      <td>1.0</td>\n",
       "      <td>34980.0</td>\n",
       "      <td>2.0</td>\n",
       "      <td>NaN</td>\n",
       "      <td>NaN</td>\n",
       "      <td>2019</td>\n",
       "    </tr>\n",
       "    <tr>\n",
       "      <th>368</th>\n",
       "      <td>112202011.0</td>\n",
       "      <td>102.0</td>\n",
       "      <td>11220201,11220202</td>\n",
       "      <td>11220201.0</td>\n",
       "      <td>11220202.0</td>\n",
       "      <td>NaN</td>\n",
       "      <td>NaN</td>\n",
       "      <td>NaN</td>\n",
       "      <td>2003.0</td>\n",
       "      <td>6.0</td>\n",
       "      <td>...</td>\n",
       "      <td>NaN</td>\n",
       "      <td>NaN</td>\n",
       "      <td>NaN</td>\n",
       "      <td>NaN</td>\n",
       "      <td>1.0</td>\n",
       "      <td>14790.0</td>\n",
       "      <td>1.0</td>\n",
       "      <td>1.0</td>\n",
       "      <td>365256.0</td>\n",
       "      <td>2019</td>\n",
       "    </tr>\n",
       "    <tr>\n",
       "      <th>879</th>\n",
       "      <td>114008011.0</td>\n",
       "      <td>103.0</td>\n",
       "      <td>11400801,11400802</td>\n",
       "      <td>11400801.0</td>\n",
       "      <td>11400802.0</td>\n",
       "      <td>NaN</td>\n",
       "      <td>NaN</td>\n",
       "      <td>NaN</td>\n",
       "      <td>1996.0</td>\n",
       "      <td>NaN</td>\n",
       "      <td>...</td>\n",
       "      <td>2.0</td>\n",
       "      <td>2.0</td>\n",
       "      <td>2.0</td>\n",
       "      <td>2.0</td>\n",
       "      <td>3.0</td>\n",
       "      <td>40000.0</td>\n",
       "      <td>2.0</td>\n",
       "      <td>NaN</td>\n",
       "      <td>NaN</td>\n",
       "      <td>2019</td>\n",
       "    </tr>\n",
       "    <tr>\n",
       "      <th>968</th>\n",
       "      <td>114068011.0</td>\n",
       "      <td>102.0</td>\n",
       "      <td>11406801,11406802</td>\n",
       "      <td>11406801.0</td>\n",
       "      <td>11406802.0</td>\n",
       "      <td>NaN</td>\n",
       "      <td>NaN</td>\n",
       "      <td>NaN</td>\n",
       "      <td>2015.0</td>\n",
       "      <td>4.0</td>\n",
       "      <td>...</td>\n",
       "      <td>2.0</td>\n",
       "      <td>2.0</td>\n",
       "      <td>2.0</td>\n",
       "      <td>2.0</td>\n",
       "      <td>1.0</td>\n",
       "      <td>38900.0</td>\n",
       "      <td>2.0</td>\n",
       "      <td>NaN</td>\n",
       "      <td>NaN</td>\n",
       "      <td>2019</td>\n",
       "    </tr>\n",
       "    <tr>\n",
       "      <th>1322</th>\n",
       "      <td>115106011.0</td>\n",
       "      <td>105.0</td>\n",
       "      <td>11510602,11510603</td>\n",
       "      <td>11510602.0</td>\n",
       "      <td>11510603.0</td>\n",
       "      <td>NaN</td>\n",
       "      <td>NaN</td>\n",
       "      <td>NaN</td>\n",
       "      <td>2014.0</td>\n",
       "      <td>1.0</td>\n",
       "      <td>...</td>\n",
       "      <td>2.0</td>\n",
       "      <td>2.0</td>\n",
       "      <td>1.0</td>\n",
       "      <td>2.0</td>\n",
       "      <td>1.0</td>\n",
       "      <td>100000.0</td>\n",
       "      <td>2.0</td>\n",
       "      <td>NaN</td>\n",
       "      <td>NaN</td>\n",
       "      <td>2019</td>\n",
       "    </tr>\n",
       "    <tr>\n",
       "      <th>...</th>\n",
       "      <td>...</td>\n",
       "      <td>...</td>\n",
       "      <td>...</td>\n",
       "      <td>...</td>\n",
       "      <td>...</td>\n",
       "      <td>...</td>\n",
       "      <td>...</td>\n",
       "      <td>...</td>\n",
       "      <td>...</td>\n",
       "      <td>...</td>\n",
       "      <td>...</td>\n",
       "      <td>...</td>\n",
       "      <td>...</td>\n",
       "      <td>...</td>\n",
       "      <td>...</td>\n",
       "      <td>...</td>\n",
       "      <td>...</td>\n",
       "      <td>...</td>\n",
       "      <td>...</td>\n",
       "      <td>...</td>\n",
       "      <td>...</td>\n",
       "    </tr>\n",
       "    <tr>\n",
       "      <th>20736</th>\n",
       "      <td>254486011.0</td>\n",
       "      <td>105.0</td>\n",
       "      <td>25448601,25448602</td>\n",
       "      <td>25448601.0</td>\n",
       "      <td>25448602.0</td>\n",
       "      <td>NaN</td>\n",
       "      <td>NaN</td>\n",
       "      <td>NaN</td>\n",
       "      <td>1993.0</td>\n",
       "      <td>6.0</td>\n",
       "      <td>...</td>\n",
       "      <td>2.0</td>\n",
       "      <td>2.0</td>\n",
       "      <td>2.0</td>\n",
       "      <td>2.0</td>\n",
       "      <td>3.0</td>\n",
       "      <td>29200.0</td>\n",
       "      <td>2.0</td>\n",
       "      <td>NaN</td>\n",
       "      <td>NaN</td>\n",
       "      <td>2021</td>\n",
       "    </tr>\n",
       "    <tr>\n",
       "      <th>20882</th>\n",
       "      <td>255068011.0</td>\n",
       "      <td>301.0</td>\n",
       "      <td>25506801,25506802</td>\n",
       "      <td>25506801.0</td>\n",
       "      <td>25506802.0</td>\n",
       "      <td>NaN</td>\n",
       "      <td>NaN</td>\n",
       "      <td>NaN</td>\n",
       "      <td>2008.0</td>\n",
       "      <td>3.0</td>\n",
       "      <td>...</td>\n",
       "      <td>2.0</td>\n",
       "      <td>2.0</td>\n",
       "      <td>2.0</td>\n",
       "      <td>2.0</td>\n",
       "      <td>1.0</td>\n",
       "      <td>105300.0</td>\n",
       "      <td>2.0</td>\n",
       "      <td>NaN</td>\n",
       "      <td>NaN</td>\n",
       "      <td>2021</td>\n",
       "    </tr>\n",
       "    <tr>\n",
       "      <th>21126</th>\n",
       "      <td>255465011.0</td>\n",
       "      <td>102.0</td>\n",
       "      <td>25546501,25546502</td>\n",
       "      <td>25546501.0</td>\n",
       "      <td>25546502.0</td>\n",
       "      <td>NaN</td>\n",
       "      <td>NaN</td>\n",
       "      <td>NaN</td>\n",
       "      <td>2006.0</td>\n",
       "      <td>3.0</td>\n",
       "      <td>...</td>\n",
       "      <td>2.0</td>\n",
       "      <td>2.0</td>\n",
       "      <td>2.0</td>\n",
       "      <td>2.0</td>\n",
       "      <td>1.0</td>\n",
       "      <td>216570.0</td>\n",
       "      <td>1.0</td>\n",
       "      <td>1.0</td>\n",
       "      <td>270000.0</td>\n",
       "      <td>2021</td>\n",
       "    </tr>\n",
       "    <tr>\n",
       "      <th>21140</th>\n",
       "      <td>255468011.0</td>\n",
       "      <td>108.0</td>\n",
       "      <td>25546801,25546802,25546803,25546804</td>\n",
       "      <td>25546801.0</td>\n",
       "      <td>25546802.0</td>\n",
       "      <td>25546803.0</td>\n",
       "      <td>25546804.0</td>\n",
       "      <td>NaN</td>\n",
       "      <td>2010.0</td>\n",
       "      <td>10.0</td>\n",
       "      <td>...</td>\n",
       "      <td>2.0</td>\n",
       "      <td>2.0</td>\n",
       "      <td>2.0</td>\n",
       "      <td>1.0</td>\n",
       "      <td>1.0</td>\n",
       "      <td>36410.0</td>\n",
       "      <td>1.0</td>\n",
       "      <td>1.0</td>\n",
       "      <td>120000.0</td>\n",
       "      <td>2021</td>\n",
       "    </tr>\n",
       "    <tr>\n",
       "      <th>21268</th>\n",
       "      <td>300046011.0</td>\n",
       "      <td>103.0</td>\n",
       "      <td>30004604,30004605,30004606</td>\n",
       "      <td>30004604.0</td>\n",
       "      <td>30004605.0</td>\n",
       "      <td>30004606.0</td>\n",
       "      <td>NaN</td>\n",
       "      <td>NaN</td>\n",
       "      <td>1995.0</td>\n",
       "      <td>7.0</td>\n",
       "      <td>...</td>\n",
       "      <td>2.0</td>\n",
       "      <td>2.0</td>\n",
       "      <td>2.0</td>\n",
       "      <td>2.0</td>\n",
       "      <td>3.0</td>\n",
       "      <td>42520.0</td>\n",
       "      <td>2.0</td>\n",
       "      <td>NaN</td>\n",
       "      <td>NaN</td>\n",
       "      <td>2021</td>\n",
       "    </tr>\n",
       "  </tbody>\n",
       "</table>\n",
       "<p>21729 rows × 26 columns</p>\n",
       "</div>"
      ],
      "text/plain": [
       "              HHID  PHI_N                              PHI_PID     PIDWON1  \\\n",
       "86     112075011.0  105.0                    11207501,11207502  11207501.0   \n",
       "368    112202011.0  102.0                    11220201,11220202  11220201.0   \n",
       "879    114008011.0  103.0                    11400801,11400802  11400801.0   \n",
       "968    114068011.0  102.0                    11406801,11406802  11406801.0   \n",
       "1322   115106011.0  105.0                    11510602,11510603  11510602.0   \n",
       "...            ...    ...                                  ...         ...   \n",
       "20736  254486011.0  105.0                    25448601,25448602  25448601.0   \n",
       "20882  255068011.0  301.0                    25506801,25506802  25506801.0   \n",
       "21126  255465011.0  102.0                    25546501,25546502  25546501.0   \n",
       "21140  255468011.0  108.0  25546801,25546802,25546803,25546804  25546801.0   \n",
       "21268  300046011.0  103.0           30004604,30004605,30004606  30004604.0   \n",
       "\n",
       "          PIDWON2     PIDWON3     PIDWON4  PIDWON5   PHI_Y  PHI_M  ...  \\\n",
       "86     11207502.0         NaN         NaN      NaN  2003.0    8.0  ...   \n",
       "368    11220202.0         NaN         NaN      NaN  2003.0    6.0  ...   \n",
       "879    11400802.0         NaN         NaN      NaN  1996.0    NaN  ...   \n",
       "968    11406802.0         NaN         NaN      NaN  2015.0    4.0  ...   \n",
       "1322   11510603.0         NaN         NaN      NaN  2014.0    1.0  ...   \n",
       "...           ...         ...         ...      ...     ...    ...  ...   \n",
       "20736  25448602.0         NaN         NaN      NaN  1993.0    6.0  ...   \n",
       "20882  25506802.0         NaN         NaN      NaN  2008.0    3.0  ...   \n",
       "21126  25546502.0         NaN         NaN      NaN  2006.0    3.0  ...   \n",
       "21140  25546802.0  25546803.0  25546804.0      NaN  2010.0   10.0  ...   \n",
       "21268  30004605.0  30004606.0         NaN      NaN  1995.0    7.0  ...   \n",
       "\n",
       "       PHI_TYPE_T PHI_TYPE_AL  PHI_TYPE_M  PHI_TYPE_O  PHI_premium_yn  \\\n",
       "86            2.0         2.0         2.0         2.0             1.0   \n",
       "368           NaN         NaN         NaN         NaN             1.0   \n",
       "879           2.0         2.0         2.0         2.0             3.0   \n",
       "968           2.0         2.0         2.0         2.0             1.0   \n",
       "1322          2.0         2.0         1.0         2.0             1.0   \n",
       "...           ...         ...         ...         ...             ...   \n",
       "20736         2.0         2.0         2.0         2.0             3.0   \n",
       "20882         2.0         2.0         2.0         2.0             1.0   \n",
       "21126         2.0         2.0         2.0         2.0             1.0   \n",
       "21140         2.0         2.0         2.0         1.0             1.0   \n",
       "21268         2.0         2.0         2.0         2.0             3.0   \n",
       "\n",
       "       PHI_premium  PHI_claim_yn  PHI_benefit_yn  PHI_benefit  year  \n",
       "86         34980.0           2.0             NaN          NaN  2019  \n",
       "368        14790.0           1.0             1.0     365256.0  2019  \n",
       "879        40000.0           2.0             NaN          NaN  2019  \n",
       "968        38900.0           2.0             NaN          NaN  2019  \n",
       "1322      100000.0           2.0             NaN          NaN  2019  \n",
       "...            ...           ...             ...          ...   ...  \n",
       "20736      29200.0           2.0             NaN          NaN  2021  \n",
       "20882     105300.0           2.0             NaN          NaN  2021  \n",
       "21126     216570.0           1.0             1.0     270000.0  2021  \n",
       "21140      36410.0           1.0             1.0     120000.0  2021  \n",
       "21268      42520.0           2.0             NaN          NaN  2021  \n",
       "\n",
       "[21729 rows x 26 columns]"
      ]
     },
     "execution_count": 203,
     "metadata": {},
     "output_type": "execute_result"
    }
   ],
   "source": [
    "# 동시가입 건수 : 21729 건\n",
    "phi.loc[phi[\"PHI_PID\"].str.len() >= 9, :]"
   ]
  },
  {
   "cell_type": "code",
   "execution_count": 204,
   "metadata": {},
   "outputs": [],
   "source": [
    "# 독립가입 건 : 총 42546 행\n",
    "phi_only = phi.loc[phi[\"PHI_PID\"].str.len() < 9, :]"
   ]
  },
  {
   "cell_type": "code",
   "execution_count": 205,
   "metadata": {},
   "outputs": [
    {
     "data": {
      "text/plain": [
       "year\n",
       "2019    21339\n",
       "2021    21207\n",
       "Name: count, dtype: int64"
      ]
     },
     "execution_count": 205,
     "metadata": {},
     "output_type": "execute_result"
    }
   ],
   "source": [
    "phi_only['year'].value_counts()"
   ]
  },
  {
   "cell_type": "code",
   "execution_count": 170,
   "metadata": {},
   "outputs": [
    {
     "name": "stdout",
     "output_type": "stream",
     "text": [
      "<class 'pandas.core.frame.DataFrame'>\n",
      "Index: 42546 entries, 0 to 21391\n",
      "Data columns (total 26 columns):\n",
      " #   Column          Non-Null Count  Dtype  \n",
      "---  ------          --------------  -----  \n",
      " 0   HHID            42546 non-null  float64\n",
      " 1   PHI_N           42546 non-null  float64\n",
      " 2   PHI_PID         42546 non-null  object \n",
      " 3   PIDWON1         42546 non-null  float64\n",
      " 4   PIDWON2         0 non-null      float64\n",
      " 5   PIDWON3         0 non-null      float64\n",
      " 6   PIDWON4         0 non-null      float64\n",
      " 7   PIDWON5         0 non-null      float64\n",
      " 8   PHI_Y           39913 non-null  float64\n",
      " 9   PHI_M           29173 non-null  float64\n",
      " 10  PHI_FORM        41896 non-null  float64\n",
      " 11  PHI_TYPE        36171 non-null  object \n",
      " 12  PHI_TYPE_D      35010 non-null  float64\n",
      " 13  PHI_TYPE_C      35010 non-null  float64\n",
      " 14  PHI_TYPE_A      35010 non-null  float64\n",
      " 15  PHI_TYPE_N      35010 non-null  float64\n",
      " 16  PHI_TYPE_T      35010 non-null  float64\n",
      " 17  PHI_TYPE_AL     35010 non-null  float64\n",
      " 18  PHI_TYPE_M      35010 non-null  float64\n",
      " 19  PHI_TYPE_O      35010 non-null  float64\n",
      " 20  PHI_premium_yn  41953 non-null  float64\n",
      " 21  PHI_premium     40343 non-null  float64\n",
      " 22  PHI_claim_yn    42170 non-null  float64\n",
      " 23  PHI_benefit_yn  3180 non-null   float64\n",
      " 24  PHI_benefit     3069 non-null   float64\n",
      " 25  year            42546 non-null  int64  \n",
      "dtypes: float64(23), int64(1), object(2)\n",
      "memory usage: 8.8+ MB\n"
     ]
    }
   ],
   "source": [
    "phi_only.info()"
   ]
  },
  {
   "cell_type": "code",
   "execution_count": 171,
   "metadata": {},
   "outputs": [
    {
     "name": "stderr",
     "output_type": "stream",
     "text": [
      "C:\\Users\\user\\AppData\\Local\\Temp\\ipykernel_21124\\1473125934.py:2: SettingWithCopyWarning: \n",
      "A value is trying to be set on a copy of a slice from a DataFrame\n",
      "\n",
      "See the caveats in the documentation: https://pandas.pydata.org/pandas-docs/stable/user_guide/indexing.html#returning-a-view-versus-a-copy\n",
      "  phi_only.drop([\"PHI_PID\",\"PIDWON2\",\"PIDWON3\",\"PIDWON4\",\"PIDWON5\"], axis=1, inplace=True)\n"
     ]
    }
   ],
   "source": [
    "# PHI_PID, PIDWON2~5 삭제\n",
    "phi_only.drop([\"PHI_PID\",\"PIDWON2\",\"PIDWON3\",\"PIDWON4\",\"PIDWON5\"], axis=1, inplace=True)"
   ]
  },
  {
   "cell_type": "code",
   "execution_count": 176,
   "metadata": {},
   "outputs": [],
   "source": [
    "# PIDWON 변수명 변경\n",
    "phi_only = phi_only.rename(columns={\"PIDWON1\":\"PIDWON\"})"
   ]
  },
  {
   "cell_type": "code",
   "execution_count": 177,
   "metadata": {},
   "outputs": [
    {
     "data": {
      "text/html": [
       "<div>\n",
       "<style scoped>\n",
       "    .dataframe tbody tr th:only-of-type {\n",
       "        vertical-align: middle;\n",
       "    }\n",
       "\n",
       "    .dataframe tbody tr th {\n",
       "        vertical-align: top;\n",
       "    }\n",
       "\n",
       "    .dataframe thead th {\n",
       "        text-align: right;\n",
       "    }\n",
       "</style>\n",
       "<table border=\"1\" class=\"dataframe\">\n",
       "  <thead>\n",
       "    <tr style=\"text-align: right;\">\n",
       "      <th></th>\n",
       "      <th>HHID</th>\n",
       "      <th>PHI_N</th>\n",
       "      <th>PIDWON</th>\n",
       "      <th>PHI_Y</th>\n",
       "      <th>PHI_M</th>\n",
       "      <th>PHI_FORM</th>\n",
       "      <th>PHI_TYPE</th>\n",
       "      <th>PHI_TYPE_D</th>\n",
       "      <th>PHI_TYPE_C</th>\n",
       "      <th>PHI_TYPE_A</th>\n",
       "      <th>...</th>\n",
       "      <th>PHI_TYPE_T</th>\n",
       "      <th>PHI_TYPE_AL</th>\n",
       "      <th>PHI_TYPE_M</th>\n",
       "      <th>PHI_TYPE_O</th>\n",
       "      <th>PHI_premium_yn</th>\n",
       "      <th>PHI_premium</th>\n",
       "      <th>PHI_claim_yn</th>\n",
       "      <th>PHI_benefit_yn</th>\n",
       "      <th>PHI_benefit</th>\n",
       "      <th>year</th>\n",
       "    </tr>\n",
       "  </thead>\n",
       "  <tbody>\n",
       "    <tr>\n",
       "      <th>0</th>\n",
       "      <td>112003011.0</td>\n",
       "      <td>101.0</td>\n",
       "      <td>11200301.0</td>\n",
       "      <td>2004.0</td>\n",
       "      <td>NaN</td>\n",
       "      <td>3.0</td>\n",
       "      <td>1,2,3,8</td>\n",
       "      <td>1.0</td>\n",
       "      <td>1.0</td>\n",
       "      <td>1.0</td>\n",
       "      <td>...</td>\n",
       "      <td>2.0</td>\n",
       "      <td>2.0</td>\n",
       "      <td>2.0</td>\n",
       "      <td>1.0</td>\n",
       "      <td>1.0</td>\n",
       "      <td>120000.0</td>\n",
       "      <td>1.0</td>\n",
       "      <td>1.0</td>\n",
       "      <td>60000.0</td>\n",
       "      <td>2019</td>\n",
       "    </tr>\n",
       "    <tr>\n",
       "      <th>1</th>\n",
       "      <td>112003011.0</td>\n",
       "      <td>102.0</td>\n",
       "      <td>11200302.0</td>\n",
       "      <td>2004.0</td>\n",
       "      <td>NaN</td>\n",
       "      <td>3.0</td>\n",
       "      <td>1,2,3,8</td>\n",
       "      <td>1.0</td>\n",
       "      <td>1.0</td>\n",
       "      <td>1.0</td>\n",
       "      <td>...</td>\n",
       "      <td>2.0</td>\n",
       "      <td>2.0</td>\n",
       "      <td>2.0</td>\n",
       "      <td>1.0</td>\n",
       "      <td>1.0</td>\n",
       "      <td>118000.0</td>\n",
       "      <td>2.0</td>\n",
       "      <td>NaN</td>\n",
       "      <td>NaN</td>\n",
       "      <td>2019</td>\n",
       "    </tr>\n",
       "    <tr>\n",
       "      <th>2</th>\n",
       "      <td>112010011.0</td>\n",
       "      <td>101.0</td>\n",
       "      <td>11201001.0</td>\n",
       "      <td>2015.0</td>\n",
       "      <td>3.0</td>\n",
       "      <td>2.0</td>\n",
       "      <td>NaN</td>\n",
       "      <td>NaN</td>\n",
       "      <td>NaN</td>\n",
       "      <td>NaN</td>\n",
       "      <td>...</td>\n",
       "      <td>NaN</td>\n",
       "      <td>NaN</td>\n",
       "      <td>NaN</td>\n",
       "      <td>NaN</td>\n",
       "      <td>1.0</td>\n",
       "      <td>48710.0</td>\n",
       "      <td>2.0</td>\n",
       "      <td>NaN</td>\n",
       "      <td>NaN</td>\n",
       "      <td>2019</td>\n",
       "    </tr>\n",
       "    <tr>\n",
       "      <th>3</th>\n",
       "      <td>112010011.0</td>\n",
       "      <td>102.0</td>\n",
       "      <td>11201001.0</td>\n",
       "      <td>2000.0</td>\n",
       "      <td>7.0</td>\n",
       "      <td>1.0</td>\n",
       "      <td>1,2</td>\n",
       "      <td>1.0</td>\n",
       "      <td>1.0</td>\n",
       "      <td>2.0</td>\n",
       "      <td>...</td>\n",
       "      <td>2.0</td>\n",
       "      <td>2.0</td>\n",
       "      <td>2.0</td>\n",
       "      <td>2.0</td>\n",
       "      <td>3.0</td>\n",
       "      <td>62800.0</td>\n",
       "      <td>2.0</td>\n",
       "      <td>NaN</td>\n",
       "      <td>NaN</td>\n",
       "      <td>2019</td>\n",
       "    </tr>\n",
       "    <tr>\n",
       "      <th>4</th>\n",
       "      <td>112010011.0</td>\n",
       "      <td>103.0</td>\n",
       "      <td>11201002.0</td>\n",
       "      <td>2012.0</td>\n",
       "      <td>2.0</td>\n",
       "      <td>3.0</td>\n",
       "      <td>1,2,3,8</td>\n",
       "      <td>1.0</td>\n",
       "      <td>1.0</td>\n",
       "      <td>1.0</td>\n",
       "      <td>...</td>\n",
       "      <td>2.0</td>\n",
       "      <td>2.0</td>\n",
       "      <td>2.0</td>\n",
       "      <td>1.0</td>\n",
       "      <td>1.0</td>\n",
       "      <td>201717.0</td>\n",
       "      <td>2.0</td>\n",
       "      <td>NaN</td>\n",
       "      <td>NaN</td>\n",
       "      <td>2019</td>\n",
       "    </tr>\n",
       "  </tbody>\n",
       "</table>\n",
       "<p>5 rows × 21 columns</p>\n",
       "</div>"
      ],
      "text/plain": [
       "          HHID  PHI_N      PIDWON   PHI_Y  PHI_M  PHI_FORM PHI_TYPE  \\\n",
       "0  112003011.0  101.0  11200301.0  2004.0    NaN       3.0  1,2,3,8   \n",
       "1  112003011.0  102.0  11200302.0  2004.0    NaN       3.0  1,2,3,8   \n",
       "2  112010011.0  101.0  11201001.0  2015.0    3.0       2.0      NaN   \n",
       "3  112010011.0  102.0  11201001.0  2000.0    7.0       1.0      1,2   \n",
       "4  112010011.0  103.0  11201002.0  2012.0    2.0       3.0  1,2,3,8   \n",
       "\n",
       "   PHI_TYPE_D  PHI_TYPE_C  PHI_TYPE_A  ...  PHI_TYPE_T  PHI_TYPE_AL  \\\n",
       "0         1.0         1.0         1.0  ...         2.0          2.0   \n",
       "1         1.0         1.0         1.0  ...         2.0          2.0   \n",
       "2         NaN         NaN         NaN  ...         NaN          NaN   \n",
       "3         1.0         1.0         2.0  ...         2.0          2.0   \n",
       "4         1.0         1.0         1.0  ...         2.0          2.0   \n",
       "\n",
       "   PHI_TYPE_M  PHI_TYPE_O  PHI_premium_yn  PHI_premium  PHI_claim_yn  \\\n",
       "0         2.0         1.0             1.0     120000.0           1.0   \n",
       "1         2.0         1.0             1.0     118000.0           2.0   \n",
       "2         NaN         NaN             1.0      48710.0           2.0   \n",
       "3         2.0         2.0             3.0      62800.0           2.0   \n",
       "4         2.0         1.0             1.0     201717.0           2.0   \n",
       "\n",
       "   PHI_benefit_yn  PHI_benefit  year  \n",
       "0             1.0      60000.0  2019  \n",
       "1             NaN          NaN  2019  \n",
       "2             NaN          NaN  2019  \n",
       "3             NaN          NaN  2019  \n",
       "4             NaN          NaN  2019  \n",
       "\n",
       "[5 rows x 21 columns]"
      ]
     },
     "execution_count": 177,
     "metadata": {},
     "output_type": "execute_result"
    }
   ],
   "source": [
    "phi_only.head()"
   ]
  },
  {
   "cell_type": "code",
   "execution_count": 178,
   "metadata": {},
   "outputs": [],
   "source": [
    "# csv 파일로 저장\n",
    "phi_only.to_csv('C:\\\\Users\\\\user\\\\Desktop\\\\중간프로젝트\\\\의료패널 데이터\\\\csv파일\\\\phi_only.csv', index=False)"
   ]
  },
  {
   "cell_type": "markdown",
   "metadata": {},
   "source": [
    "# 변수 별 count 확인"
   ]
  },
  {
   "cell_type": "code",
   "execution_count": 185,
   "metadata": {},
   "outputs": [
    {
     "name": "stdout",
     "output_type": "stream",
     "text": [
      "<class 'pandas.core.frame.DataFrame'>\n",
      "Index: 42546 entries, 0 to 21391\n",
      "Data columns (total 21 columns):\n",
      " #   Column          Non-Null Count  Dtype  \n",
      "---  ------          --------------  -----  \n",
      " 0   HHID            42546 non-null  float64\n",
      " 1   PHI_N           42546 non-null  float64\n",
      " 2   PIDWON          42546 non-null  float64\n",
      " 3   PHI_Y           39913 non-null  float64\n",
      " 4   PHI_M           29173 non-null  float64\n",
      " 5   PHI_FORM        41896 non-null  float64\n",
      " 6   PHI_TYPE        36171 non-null  object \n",
      " 7   PHI_TYPE_D      35010 non-null  float64\n",
      " 8   PHI_TYPE_C      35010 non-null  float64\n",
      " 9   PHI_TYPE_A      35010 non-null  float64\n",
      " 10  PHI_TYPE_N      35010 non-null  float64\n",
      " 11  PHI_TYPE_T      35010 non-null  float64\n",
      " 12  PHI_TYPE_AL     35010 non-null  float64\n",
      " 13  PHI_TYPE_M      35010 non-null  float64\n",
      " 14  PHI_TYPE_O      35010 non-null  float64\n",
      " 15  PHI_premium_yn  41953 non-null  float64\n",
      " 16  PHI_premium     40343 non-null  float64\n",
      " 17  PHI_claim_yn    42170 non-null  float64\n",
      " 18  PHI_benefit_yn  3180 non-null   float64\n",
      " 19  PHI_benefit     3069 non-null   float64\n",
      " 20  year            42546 non-null  int64  \n",
      "dtypes: float64(19), int64(1), object(1)\n",
      "memory usage: 7.1+ MB\n"
     ]
    }
   ],
   "source": [
    "phi_only.info()"
   ]
  },
  {
   "cell_type": "code",
   "execution_count": 194,
   "metadata": {},
   "outputs": [
    {
     "data": {
      "text/plain": [
       "HHID                  0\n",
       "PHI_N                 0\n",
       "PIDWON                0\n",
       "PHI_Y              2633\n",
       "PHI_M             13373\n",
       "PHI_FORM            650\n",
       "PHI_TYPE           6375\n",
       "PHI_TYPE_D         7536\n",
       "PHI_TYPE_C         7536\n",
       "PHI_TYPE_A         7536\n",
       "PHI_TYPE_N         7536\n",
       "PHI_TYPE_T         7536\n",
       "PHI_TYPE_AL        7536\n",
       "PHI_TYPE_M         7536\n",
       "PHI_TYPE_O         7536\n",
       "PHI_premium_yn      593\n",
       "PHI_premium        2203\n",
       "PHI_claim_yn        376\n",
       "PHI_benefit_yn    39366\n",
       "PHI_benefit       39477\n",
       "year                  0\n",
       "dtype: int64"
      ]
     },
     "execution_count": 194,
     "metadata": {},
     "output_type": "execute_result"
    }
   ],
   "source": [
    "phi_only.isna().sum()"
   ]
  },
  {
   "cell_type": "code",
   "execution_count": null,
   "metadata": {},
   "outputs": [
    {
     "data": {
      "text/plain": [
       "11717"
      ]
     },
     "execution_count": 186,
     "metadata": {},
     "output_type": "execute_result"
    }
   ],
   "source": [
    "# 가구원 수 : 11717 명\n",
    "phi_only[\"PIDWON\"].nunique()"
   ]
  },
  {
   "cell_type": "code",
   "execution_count": 199,
   "metadata": {},
   "outputs": [
    {
     "data": {
      "text/plain": [
       "year\n",
       "2019    21339\n",
       "2021    21207\n",
       "Name: count, dtype: int64"
      ]
     },
     "execution_count": 199,
     "metadata": {},
     "output_type": "execute_result"
    }
   ],
   "source": [
    "phi_only[\"year\"].value_counts()"
   ]
  },
  {
   "cell_type": "code",
   "execution_count": null,
   "metadata": {},
   "outputs": [
    {
     "data": {
      "text/plain": [
       "5287"
      ]
     },
     "execution_count": 187,
     "metadata": {},
     "output_type": "execute_result"
    }
   ],
   "source": [
    "# 가구 수: 5287 가구\n",
    "phi_only[\"HHID\"].nunique()"
   ]
  },
  {
   "cell_type": "code",
   "execution_count": null,
   "metadata": {},
   "outputs": [
    {
     "data": {
      "text/plain": [
       "109"
      ]
     },
     "execution_count": 197,
     "metadata": {},
     "output_type": "execute_result"
    }
   ],
   "source": [
    "# 보험 종류 수: 109 개\n",
    "phi_only[\"PHI_N\"].nunique()"
   ]
  },
  {
   "cell_type": "markdown",
   "metadata": {},
   "source": [
    "## 보험금 수령 / 보험금 청구"
   ]
  },
  {
   "cell_type": "code",
   "execution_count": null,
   "metadata": {},
   "outputs": [
    {
     "data": {
      "text/plain": [
       "PHI_claim_yn\n",
       "2.0    38990\n",
       "1.0     3180\n",
       "Name: count, dtype: int64"
      ]
     },
     "execution_count": 188,
     "metadata": {},
     "output_type": "execute_result"
    }
   ],
   "source": [
    "# 청구 건 수: 3180 건\n",
    "phi_only[\"PHI_claim_yn\"].value_counts()"
   ]
  },
  {
   "cell_type": "code",
   "execution_count": null,
   "metadata": {},
   "outputs": [
    {
     "data": {
      "text/plain": [
       "PHI_benefit_yn\n",
       "1.0    3082\n",
       "2.0      85\n",
       "3.0      13\n",
       "Name: count, dtype: int64"
      ]
     },
     "execution_count": 191,
     "metadata": {},
     "output_type": "execute_result"
    }
   ],
   "source": [
    "# 보험금 수령 건 : 3082 건\n",
    "phi_only[\"PHI_benefit_yn\"].value_counts()"
   ]
  },
  {
   "cell_type": "code",
   "execution_count": null,
   "metadata": {},
   "outputs": [
    {
     "data": {
      "text/plain": [
       "0.9691823899371069"
      ]
     },
     "execution_count": 195,
     "metadata": {},
     "output_type": "execute_result"
    }
   ],
   "source": [
    "# 청구 대비 보험금 수령비율\n",
    "3082/3180"
   ]
  },
  {
   "cell_type": "markdown",
   "metadata": {},
   "source": [
    "# 2019년 데이터(a_phi) 살펴보기"
   ]
  },
  {
   "cell_type": "code",
   "execution_count": 179,
   "metadata": {},
   "outputs": [],
   "source": [
    "a_19 = phi_only.loc[phi_only[\"year\"]==2019]"
   ]
  },
  {
   "cell_type": "code",
   "execution_count": 180,
   "metadata": {},
   "outputs": [
    {
     "name": "stdout",
     "output_type": "stream",
     "text": [
      "<class 'pandas.core.frame.DataFrame'>\n",
      "Index: 21339 entries, 0 to 21537\n",
      "Data columns (total 21 columns):\n",
      " #   Column          Non-Null Count  Dtype  \n",
      "---  ------          --------------  -----  \n",
      " 0   HHID            21339 non-null  float64\n",
      " 1   PHI_N           21339 non-null  float64\n",
      " 2   PIDWON          21339 non-null  float64\n",
      " 3   PHI_Y           19923 non-null  float64\n",
      " 4   PHI_M           13232 non-null  float64\n",
      " 5   PHI_FORM        20818 non-null  float64\n",
      " 6   PHI_TYPE        17739 non-null  object \n",
      " 7   PHI_TYPE_D      16850 non-null  float64\n",
      " 8   PHI_TYPE_C      16850 non-null  float64\n",
      " 9   PHI_TYPE_A      16850 non-null  float64\n",
      " 10  PHI_TYPE_N      16850 non-null  float64\n",
      " 11  PHI_TYPE_T      16850 non-null  float64\n",
      " 12  PHI_TYPE_AL     16850 non-null  float64\n",
      " 13  PHI_TYPE_M      16850 non-null  float64\n",
      " 14  PHI_TYPE_O      16850 non-null  float64\n",
      " 15  PHI_premium_yn  20868 non-null  float64\n",
      " 16  PHI_premium     19980 non-null  float64\n",
      " 17  PHI_claim_yn    20989 non-null  float64\n",
      " 18  PHI_benefit_yn  1255 non-null   float64\n",
      " 19  PHI_benefit     1169 non-null   float64\n",
      " 20  year            21339 non-null  int64  \n",
      "dtypes: float64(19), int64(1), object(1)\n",
      "memory usage: 3.6+ MB\n"
     ]
    }
   ],
   "source": [
    "a_19.info()"
   ]
  },
  {
   "cell_type": "code",
   "execution_count": 134,
   "metadata": {},
   "outputs": [
    {
     "data": {
      "text/plain": [
       "PHI_N\n",
       "101.0    4355\n",
       "102.0    3699\n",
       "103.0    2755\n",
       "104.0    2051\n",
       "201.0    1427\n",
       "         ... \n",
       "134.0       1\n",
       "230.0       1\n",
       "231.0       1\n",
       "232.0       1\n",
       "233.0       1\n",
       "Name: count, Length: 67, dtype: int64"
      ]
     },
     "execution_count": 134,
     "metadata": {},
     "output_type": "execute_result"
    }
   ],
   "source": [
    "# 총 67 종류의 보험\n",
    "a_19[\"PHI_N\"].value_counts()"
   ]
  },
  {
   "cell_type": "code",
   "execution_count": 135,
   "metadata": {},
   "outputs": [
    {
     "data": {
      "text/plain": [
       "PIDWON5\n",
       "19413505.0    1\n",
       "Name: count, dtype: int64"
      ]
     },
     "execution_count": 135,
     "metadata": {},
     "output_type": "execute_result"
    }
   ],
   "source": [
    "# 동시가입인(피보험자)이 5명인 경우 -> 1건\n",
    "a_19[\"PIDWON5\"].value_counts()"
   ]
  },
  {
   "cell_type": "code",
   "execution_count": 136,
   "metadata": {},
   "outputs": [
    {
     "data": {
      "text/html": [
       "<div>\n",
       "<style scoped>\n",
       "    .dataframe tbody tr th:only-of-type {\n",
       "        vertical-align: middle;\n",
       "    }\n",
       "\n",
       "    .dataframe tbody tr th {\n",
       "        vertical-align: top;\n",
       "    }\n",
       "\n",
       "    .dataframe thead th {\n",
       "        text-align: right;\n",
       "    }\n",
       "</style>\n",
       "<table border=\"1\" class=\"dataframe\">\n",
       "  <thead>\n",
       "    <tr style=\"text-align: right;\">\n",
       "      <th></th>\n",
       "      <th>HHID</th>\n",
       "      <th>PHI_N</th>\n",
       "      <th>PHI_PID</th>\n",
       "      <th>PIDWON1</th>\n",
       "      <th>PIDWON2</th>\n",
       "      <th>PIDWON3</th>\n",
       "      <th>PIDWON4</th>\n",
       "      <th>PIDWON5</th>\n",
       "      <th>PHI_Y</th>\n",
       "      <th>PHI_M</th>\n",
       "      <th>...</th>\n",
       "      <th>PHI_TYPE_T</th>\n",
       "      <th>PHI_TYPE_AL</th>\n",
       "      <th>PHI_TYPE_M</th>\n",
       "      <th>PHI_TYPE_O</th>\n",
       "      <th>PHI_premium_yn</th>\n",
       "      <th>PHI_premium</th>\n",
       "      <th>PHI_claim_yn</th>\n",
       "      <th>PHI_benefit_yn</th>\n",
       "      <th>PHI_benefit</th>\n",
       "      <th>year</th>\n",
       "    </tr>\n",
       "  </thead>\n",
       "  <tbody>\n",
       "    <tr>\n",
       "      <th>12336</th>\n",
       "      <td>194135011.0</td>\n",
       "      <td>102.0</td>\n",
       "      <td>19413501,19413502,19413503,19413504,19413505</td>\n",
       "      <td>19413501.0</td>\n",
       "      <td>19413502.0</td>\n",
       "      <td>19413503.0</td>\n",
       "      <td>19413504.0</td>\n",
       "      <td>19413505.0</td>\n",
       "      <td>2007.0</td>\n",
       "      <td>NaN</td>\n",
       "      <td>...</td>\n",
       "      <td>2.0</td>\n",
       "      <td>2.0</td>\n",
       "      <td>2.0</td>\n",
       "      <td>2.0</td>\n",
       "      <td>1.0</td>\n",
       "      <td>NaN</td>\n",
       "      <td>2.0</td>\n",
       "      <td>NaN</td>\n",
       "      <td>NaN</td>\n",
       "      <td>2019</td>\n",
       "    </tr>\n",
       "  </tbody>\n",
       "</table>\n",
       "<p>1 rows × 26 columns</p>\n",
       "</div>"
      ],
      "text/plain": [
       "              HHID  PHI_N                                       PHI_PID  \\\n",
       "12336  194135011.0  102.0  19413501,19413502,19413503,19413504,19413505   \n",
       "\n",
       "          PIDWON1     PIDWON2     PIDWON3     PIDWON4     PIDWON5   PHI_Y  \\\n",
       "12336  19413501.0  19413502.0  19413503.0  19413504.0  19413505.0  2007.0   \n",
       "\n",
       "       PHI_M  ...  PHI_TYPE_T PHI_TYPE_AL  PHI_TYPE_M  PHI_TYPE_O  \\\n",
       "12336    NaN  ...         2.0         2.0         2.0         2.0   \n",
       "\n",
       "       PHI_premium_yn  PHI_premium  PHI_claim_yn  PHI_benefit_yn  PHI_benefit  \\\n",
       "12336             1.0          NaN           2.0             NaN          NaN   \n",
       "\n",
       "       year  \n",
       "12336  2019  \n",
       "\n",
       "[1 rows x 26 columns]"
      ]
     },
     "execution_count": 136,
     "metadata": {},
     "output_type": "execute_result"
    }
   ],
   "source": [
    "a_19.loc[a_19[\"PIDWON5\"] == 19413505]"
   ]
  },
  {
   "cell_type": "code",
   "execution_count": 141,
   "metadata": {},
   "outputs": [
    {
     "data": {
      "text/plain": [
       "17"
      ]
     },
     "execution_count": 141,
     "metadata": {},
     "output_type": "execute_result"
    }
   ],
   "source": [
    "# 동시 가입인이 4명인 경우\n",
    "pidwon4_count = a_19[\"PIDWON4\"].value_counts()\n",
    "len(pidwon4_count)"
   ]
  },
  {
   "cell_type": "code",
   "execution_count": 89,
   "metadata": {},
   "outputs": [
    {
     "data": {
      "text/plain": [
       "PIDWON1\n",
       "17525301.0    30\n",
       "15527901.0    20\n",
       "19511902.0    18\n",
       "23404002.0    16\n",
       "17550202.0    16\n",
       "              ..\n",
       "17523504.0     1\n",
       "17523503.0     1\n",
       "17523502.0     1\n",
       "17523404.0     1\n",
       "40000802.0     1\n",
       "Name: count, Length: 10672, dtype: int64"
      ]
     },
     "execution_count": 89,
     "metadata": {},
     "output_type": "execute_result"
    }
   ],
   "source": [
    "# 동시가입인이 없는 경우 (본인만 가입) -> 10672 \n",
    "a_19[\"PIDWON1\"].value_counts()"
   ]
  },
  {
   "cell_type": "code",
   "execution_count": null,
   "metadata": {},
   "outputs": [
    {
     "data": {
      "text/plain": [
       "PIDWON2\n",
       "23450902.0    3\n",
       "18225404.0    2\n",
       "25448602.0    2\n",
       "17550102.0    2\n",
       "16223602.0    2\n",
       "             ..\n",
       "16218102.0    1\n",
       "16220105.0    1\n",
       "16223302.0    1\n",
       "16227702.0    1\n",
       "30004605.0    1\n",
       "Name: count, Length: 191, dtype: int64"
      ]
     },
     "execution_count": 90,
     "metadata": {},
     "output_type": "execute_result"
    }
   ],
   "source": [
    "# 동시가입인이 2명인 경우 -> 191\n",
    "a_19[\"PIDWON2\"].value_counts()"
   ]
  },
  {
   "cell_type": "code",
   "execution_count": 91,
   "metadata": {},
   "outputs": [
    {
     "data": {
      "text/plain": [
       "PIDWON3\n",
       "12215204.0    1\n",
       "21535303.0    1\n",
       "20322004.0    1\n",
       "20337304.0    1\n",
       "20505203.0    1\n",
       "20508803.0    1\n",
       "21203803.0    1\n",
       "21218605.0    1\n",
       "21222104.0    1\n",
       "21231904.0    1\n",
       "21535503.0    1\n",
       "19510903.0    1\n",
       "23300203.0    1\n",
       "23339203.0    1\n",
       "24227803.0    1\n",
       "24404203.0    1\n",
       "24503203.0    1\n",
       "24521903.0    1\n",
       "25340803.0    1\n",
       "25546803.0    1\n",
       "20225304.0    1\n",
       "19413503.0    1\n",
       "12215404.0    1\n",
       "14217203.0    1\n",
       "12307304.0    1\n",
       "12307603.0    1\n",
       "12317804.0    1\n",
       "12403503.0    1\n",
       "12510604.0    1\n",
       "13307404.0    1\n",
       "13307403.0    1\n",
       "13508104.0    1\n",
       "14543604.0    1\n",
       "19306403.0    1\n",
       "14547904.0    1\n",
       "15421603.0    1\n",
       "15505203.0    1\n",
       "17410504.0    1\n",
       "17454404.0    1\n",
       "18333703.0    1\n",
       "18352703.0    1\n",
       "18503303.0    1\n",
       "30004606.0    1\n",
       "Name: count, dtype: int64"
      ]
     },
     "execution_count": 91,
     "metadata": {},
     "output_type": "execute_result"
    }
   ],
   "source": [
    "# 동시가입인이 2명인 경우 -> 191\n",
    "a_19[\"PIDWON3\"].value_counts()"
   ]
  }
 ],
 "metadata": {
  "kernelspec": {
   "display_name": "base",
   "language": "python",
   "name": "python3"
  },
  "language_info": {
   "codemirror_mode": {
    "name": "ipython",
    "version": 3
   },
   "file_extension": ".py",
   "mimetype": "text/x-python",
   "name": "python",
   "nbconvert_exporter": "python",
   "pygments_lexer": "ipython3",
   "version": "3.12.7"
  }
 },
 "nbformat": 4,
 "nbformat_minor": 2
}
