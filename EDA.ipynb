{
 "cells": [
  {
   "cell_type": "code",
   "execution_count": 263,
   "id": "84039897-1af7-445e-8e7b-4aa9fb8bcdf6",
   "metadata": {},
   "outputs": [],
   "source": [
    "import pandas as pd\n",
    "\n",
    "# index를 HHID로 사용 -> HHID(가구 데이터이므로 HHID에 중복없음)\n",
    "a_hh_df = pd.read_csv(\"Data/a_hh.csv\", index_col=0)\n",
    "b_hh_df = pd.read_csv(\"Data/b_hh.csv\", index_col=0)\n",
    "c_hh_df = pd.read_csv(\"Data/c_hh.csv\", index_col=0)"
   ]
  },
  {
   "cell_type": "markdown",
   "id": "7f5832d1-9c49-4b76-9374-66ab7f7aad27",
   "metadata": {},
   "source": [
    "# a, b, c 각각의 info 확인해보기\n",
    "- 확인결과 가구 데이터로 HHID 중복이 없어서 index를 HHID로 사용"
   ]
  },
  {
   "cell_type": "markdown",
   "id": "a6f09bbb-831b-4419-8eec-57dbf56c4abf",
   "metadata": {},
   "source": [
    "## a.info()"
   ]
  },
  {
   "cell_type": "code",
   "execution_count": 264,
   "id": "05060aa6-b922-4c13-a6d7-37ae818aef83",
   "metadata": {},
   "outputs": [
    {
     "name": "stdout",
     "output_type": "stream",
     "text": [
      "<class 'pandas.core.frame.DataFrame'>\n",
      "Index: 6748 entries, 112001011.0 to 400009011.0\n",
      "Data columns (total 75 columns):\n",
      " #   Column         Non-Null Count  Dtype  \n",
      "---  ------         --------------  -----  \n",
      " 0   H_WGC          6748 non-null   float64\n",
      " 1   H_WSC          6748 non-null   float64\n",
      " 2   DATE_Y         6689 non-null   float64\n",
      " 3   DATE_M         6689 non-null   float64\n",
      " 4   DATE_D         6689 non-null   float64\n",
      " 5   REGION1        6689 non-null   float64\n",
      " 6   REGION2        6689 non-null   float64\n",
      " 7   FAM_N          6689 non-null   float64\n",
      " 8   IND_N          6689 non-null   float64\n",
      " 9   DEATH_YN       6689 non-null   float64\n",
      " 10  ALL_CON        6689 non-null   float64\n",
      " 11  GENERTN        6689 non-null   float64\n",
      " 12  MARR_IMMI_YN   6689 non-null   float64\n",
      " 13  CUSTM_BENF_YN  6689 non-null   float64\n",
      " 14  CUSTM_BENF1_D  467 non-null    float64\n",
      " 15  CUSTM_BENF2_D  467 non-null    float64\n",
      " 16  CUSTM_BENF3_D  467 non-null    float64\n",
      " 17  CUSTM_BENF4_D  467 non-null    float64\n",
      " 18  HOUSE_TY       6689 non-null   float64\n",
      " 19  HOUSE_FLR      6689 non-null   float64\n",
      " 20  H_INC1         6689 non-null   float64\n",
      " 21  H_INC2         6689 non-null   float64\n",
      " 22  H_INC3         6689 non-null   float64\n",
      " 23  H_INC4         5074 non-null   float64\n",
      " 24  H_INC4_1_YN    6689 non-null   float64\n",
      " 25  H_INC4_2_YN    6689 non-null   float64\n",
      " 26  H_INC4_3_YN    6689 non-null   float64\n",
      " 27  H_INC4_4_YN    6689 non-null   float64\n",
      " 28  H_INC4_5_YN    6689 non-null   float64\n",
      " 29  H_INC4_6_YN    6689 non-null   float64\n",
      " 30  H_INC4_7_YN    6689 non-null   float64\n",
      " 31  H_INC4_8_YN    6689 non-null   float64\n",
      " 32  H_INC4_9_YN    6689 non-null   float64\n",
      " 33  H_INC4_10_YN   6689 non-null   float64\n",
      " 34  H_INC4_11_YN   6689 non-null   float64\n",
      " 35  H_INC5         51 non-null     float64\n",
      " 36  H_INC5_1_YN    6689 non-null   float64\n",
      " 37  H_INC5_2_YN    6689 non-null   float64\n",
      " 38  H_INC6         2138 non-null   float64\n",
      " 39  H_INC6_1_YN    6689 non-null   float64\n",
      " 40  H_INC6_2_YN    6689 non-null   float64\n",
      " 41  H_INC7         6689 non-null   float64\n",
      " 42  H_INC_TOT      6689 non-null   float64\n",
      " 43  H_INC_MON      6689 non-null   float64\n",
      " 44  DEBT           6689 non-null   float64\n",
      " 45  PROP           6689 non-null   float64\n",
      " 46  LIV_EXP        6689 non-null   float64\n",
      " 47  LIV_EXP1       6689 non-null   float64\n",
      " 48  LIV_EXP2       6689 non-null   float64\n",
      " 49  NLIV_EXP       6689 non-null   float64\n",
      " 50  OTC_MED        6689 non-null   float64\n",
      " 51  OTC_BUY1       6343 non-null   float64\n",
      " 52  OTC_BUY2       6343 non-null   float64\n",
      " 53  OTC_BUY3       2533 non-null   float64\n",
      " 54  ORI_MED        6689 non-null   float64\n",
      " 55  HLT_SUP1       6689 non-null   float64\n",
      " 56  HLT_SUP2       6689 non-null   float64\n",
      " 57  HLT_SUP_BUY1   3624 non-null   float64\n",
      " 58  HLT_SUP_BUY2   3624 non-null   float64\n",
      " 59  HLT_SUP_BUY3   1133 non-null   float64\n",
      " 60  VIS_SUP        6689 non-null   float64\n",
      " 61  AUD_SUP        6689 non-null   float64\n",
      " 62  MED_SUP        6689 non-null   float64\n",
      " 63  H_OOP          6401 non-null   float64\n",
      " 64  HEXP1          6689 non-null   float64\n",
      " 65  HEXP2          6689 non-null   float64\n",
      " 66  HEXP2_1        492 non-null    float64\n",
      " 67  HEXP2_2        492 non-null    float64\n",
      " 68  HEXP2_3        492 non-null    float64\n",
      " 69  HEXP2_4        492 non-null    float64\n",
      " 70  HEXP2_5        492 non-null    float64\n",
      " 71  HEXP2_6        492 non-null    float64\n",
      " 72  HEXP3          492 non-null    float64\n",
      " 73  H_PHI_N        5044 non-null   float64\n",
      " 74  H_FFS_YN       5044 non-null   float64\n",
      "dtypes: float64(75)\n",
      "memory usage: 3.9 MB\n"
     ]
    }
   ],
   "source": [
    "a_hh_df.info()"
   ]
  },
  {
   "cell_type": "markdown",
   "id": "a4e53573-dd36-4a54-ab57-2ceb3763a78d",
   "metadata": {},
   "source": [
    "## b.info()"
   ]
  },
  {
   "cell_type": "code",
   "execution_count": 265,
   "id": "2201c554-c249-4406-bda4-abad66e7b463",
   "metadata": {},
   "outputs": [
    {
     "name": "stdout",
     "output_type": "stream",
     "text": [
      "<class 'pandas.core.frame.DataFrame'>\n",
      "Index: 6217 entries, 112001011.0 to 400009011.0\n",
      "Data columns (total 75 columns):\n",
      " #   Column         Non-Null Count  Dtype  \n",
      "---  ------         --------------  -----  \n",
      " 0   H_WGC          6217 non-null   float64\n",
      " 1   H_WSC          6217 non-null   float64\n",
      " 2   DATE_Y         6190 non-null   float64\n",
      " 3   DATE_M         6190 non-null   float64\n",
      " 4   DATE_D         6190 non-null   float64\n",
      " 5   REGION1        6190 non-null   float64\n",
      " 6   REGION2        6190 non-null   float64\n",
      " 7   FAM_N          6190 non-null   float64\n",
      " 8   IND_N          6190 non-null   float64\n",
      " 9   DEATH_YN       6190 non-null   float64\n",
      " 10  ALL_CON        6190 non-null   float64\n",
      " 11  GENERTN        6190 non-null   float64\n",
      " 12  MARR_IMMI_YN   6190 non-null   float64\n",
      " 13  CUSTM_BENF_YN  6190 non-null   float64\n",
      " 14  CUSTM_BENF1_D  473 non-null    float64\n",
      " 15  CUSTM_BENF2_D  473 non-null    float64\n",
      " 16  CUSTM_BENF3_D  473 non-null    float64\n",
      " 17  CUSTM_BENF4_D  473 non-null    float64\n",
      " 18  HOUSE_TY       6190 non-null   float64\n",
      " 19  HOUSE_FLR      6190 non-null   float64\n",
      " 20  H_INC1         6190 non-null   float64\n",
      " 21  H_INC2         6190 non-null   float64\n",
      " 22  H_INC3         6190 non-null   float64\n",
      " 23  H_INC4         6170 non-null   float64\n",
      " 24  H_INC4_1_YN    6190 non-null   float64\n",
      " 25  H_INC4_2_YN    6190 non-null   float64\n",
      " 26  H_INC4_3_YN    6190 non-null   float64\n",
      " 27  H_INC4_4_YN    6190 non-null   float64\n",
      " 28  H_INC4_5_YN    6190 non-null   float64\n",
      " 29  H_INC4_6_YN    6190 non-null   float64\n",
      " 30  H_INC4_7_YN    6190 non-null   float64\n",
      " 31  H_INC4_8_YN    6190 non-null   float64\n",
      " 32  H_INC4_9_YN    6190 non-null   float64\n",
      " 33  H_INC4_10_YN   6190 non-null   float64\n",
      " 34  H_INC4_11_YN   6190 non-null   float64\n",
      " 35  H_INC5         46 non-null     float64\n",
      " 36  H_INC5_1_YN    6190 non-null   float64\n",
      " 37  H_INC5_2_YN    6190 non-null   float64\n",
      " 38  H_INC6         2285 non-null   float64\n",
      " 39  H_INC6_1_YN    6190 non-null   float64\n",
      " 40  H_INC6_2_YN    6190 non-null   float64\n",
      " 41  H_INC7         6190 non-null   float64\n",
      " 42  H_INC_TOT      6190 non-null   float64\n",
      " 43  H_INC_MON      6190 non-null   float64\n",
      " 44  DEBT           6190 non-null   float64\n",
      " 45  PROP           6190 non-null   float64\n",
      " 46  LIV_EXP        6190 non-null   float64\n",
      " 47  LIV_EXP1       6190 non-null   float64\n",
      " 48  LIV_EXP2       6190 non-null   float64\n",
      " 49  NLIV_EXP       6190 non-null   float64\n",
      " 50  OTC_MED        6190 non-null   float64\n",
      " 51  OTC_BUY1       6144 non-null   float64\n",
      " 52  OTC_BUY2       6144 non-null   float64\n",
      " 53  OTC_BUY3       3119 non-null   float64\n",
      " 54  ORI_MED        6190 non-null   float64\n",
      " 55  HLT_SUP1       6190 non-null   float64\n",
      " 56  HLT_SUP2       6190 non-null   float64\n",
      " 57  HLT_SUP_BUY1   3556 non-null   float64\n",
      " 58  HLT_SUP_BUY2   3556 non-null   float64\n",
      " 59  HLT_SUP_BUY3   1195 non-null   float64\n",
      " 60  VIS_SUP        6190 non-null   float64\n",
      " 61  AUD_SUP        6190 non-null   float64\n",
      " 62  MED_SUP        6190 non-null   float64\n",
      " 63  H_OOP          6004 non-null   float64\n",
      " 64  HEXP1          6190 non-null   float64\n",
      " 65  HEXP2          6190 non-null   float64\n",
      " 66  HEXP2_1        360 non-null    float64\n",
      " 67  HEXP2_2        360 non-null    float64\n",
      " 68  HEXP2_3        360 non-null    float64\n",
      " 69  HEXP2_4        360 non-null    float64\n",
      " 70  HEXP2_5        360 non-null    float64\n",
      " 71  HEXP2_6        360 non-null    float64\n",
      " 72  HEXP3          360 non-null    float64\n",
      " 73  H_PHI_N        4673 non-null   float64\n",
      " 74  H_FFS_YN       4673 non-null   float64\n",
      "dtypes: float64(75)\n",
      "memory usage: 3.6 MB\n"
     ]
    }
   ],
   "source": [
    "b_hh_df.info()"
   ]
  },
  {
   "cell_type": "markdown",
   "id": "dc41902d-43ad-4aeb-be6f-1f02d14d0abb",
   "metadata": {},
   "source": [
    "## c.info()"
   ]
  },
  {
   "cell_type": "code",
   "execution_count": 266,
   "id": "7b841181-6a3e-45b0-950a-43fcee76e5bc",
   "metadata": {},
   "outputs": [
    {
     "name": "stdout",
     "output_type": "stream",
     "text": [
      "<class 'pandas.core.frame.DataFrame'>\n",
      "Index: 5907 entries, 112001011.0 to 400009011.0\n",
      "Data columns (total 75 columns):\n",
      " #   Column         Non-Null Count  Dtype  \n",
      "---  ------         --------------  -----  \n",
      " 0   H_WGC          5907 non-null   float64\n",
      " 1   H_WSC          5907 non-null   float64\n",
      " 2   DATE_Y         5878 non-null   float64\n",
      " 3   DATE_M         5878 non-null   float64\n",
      " 4   DATE_D         5878 non-null   float64\n",
      " 5   REGION1        5878 non-null   float64\n",
      " 6   REGION2        5878 non-null   float64\n",
      " 7   FAM_N          5878 non-null   float64\n",
      " 8   IND_N          5878 non-null   float64\n",
      " 9   DEATH_YN       5878 non-null   float64\n",
      " 10  ALL_CON        5878 non-null   float64\n",
      " 11  GENERTN        5878 non-null   float64\n",
      " 12  MARR_IMMI_YN   5878 non-null   float64\n",
      " 13  CUSTM_BENF_YN  5878 non-null   float64\n",
      " 14  CUSTM_BENF1_D  463 non-null    float64\n",
      " 15  CUSTM_BENF2_D  463 non-null    float64\n",
      " 16  CUSTM_BENF3_D  463 non-null    float64\n",
      " 17  CUSTM_BENF4_D  463 non-null    float64\n",
      " 18  HOUSE_TY       5878 non-null   float64\n",
      " 19  HOUSE_FLR      5878 non-null   float64\n",
      " 20  H_INC1         5878 non-null   float64\n",
      " 21  H_INC2         5878 non-null   float64\n",
      " 22  H_INC3         5878 non-null   float64\n",
      " 23  H_INC4         5833 non-null   float64\n",
      " 24  H_INC4_1_YN    5878 non-null   float64\n",
      " 25  H_INC4_2_YN    5878 non-null   float64\n",
      " 26  H_INC4_3_YN    5878 non-null   float64\n",
      " 27  H_INC4_4_YN    5878 non-null   float64\n",
      " 28  H_INC4_5_YN    5878 non-null   float64\n",
      " 29  H_INC4_6_YN    5878 non-null   float64\n",
      " 30  H_INC4_7_YN    5878 non-null   float64\n",
      " 31  H_INC4_8_YN    5878 non-null   float64\n",
      " 32  H_INC4_9_YN    5878 non-null   float64\n",
      " 33  H_INC4_10_YN   5878 non-null   float64\n",
      " 34  H_INC4_11_YN   5878 non-null   float64\n",
      " 35  H_INC5         72 non-null     float64\n",
      " 36  H_INC5_1_YN    5878 non-null   float64\n",
      " 37  H_INC5_2_YN    5878 non-null   float64\n",
      " 38  H_INC6         2365 non-null   float64\n",
      " 39  H_INC6_1_YN    5878 non-null   float64\n",
      " 40  H_INC6_2_YN    5878 non-null   float64\n",
      " 41  H_INC7         5878 non-null   float64\n",
      " 42  H_INC_TOT      5878 non-null   float64\n",
      " 43  H_INC_MON      5878 non-null   float64\n",
      " 44  DEBT           5878 non-null   float64\n",
      " 45  PROP           5878 non-null   float64\n",
      " 46  LIV_EXP        5878 non-null   float64\n",
      " 47  LIV_EXP1       5878 non-null   float64\n",
      " 48  LIV_EXP2       5878 non-null   float64\n",
      " 49  NLIV_EXP       5878 non-null   float64\n",
      " 50  OTC_MED        5878 non-null   float64\n",
      " 51  OTC_BUY1       5829 non-null   float64\n",
      " 52  OTC_BUY2       5829 non-null   float64\n",
      " 53  OTC_BUY3       2962 non-null   float64\n",
      " 54  ORI_MED        5878 non-null   float64\n",
      " 55  HLT_SUP1       5878 non-null   float64\n",
      " 56  HLT_SUP2       5878 non-null   float64\n",
      " 57  HLT_SUP_BUY1   3652 non-null   float64\n",
      " 58  HLT_SUP_BUY2   3652 non-null   float64\n",
      " 59  HLT_SUP_BUY3   1276 non-null   float64\n",
      " 60  VIS_SUP        5878 non-null   float64\n",
      " 61  AUD_SUP        5878 non-null   float64\n",
      " 62  MED_SUP        5878 non-null   float64\n",
      " 63  H_OOP          5823 non-null   float64\n",
      " 64  HEXP1          5878 non-null   float64\n",
      " 65  HEXP2          5878 non-null   float64\n",
      " 66  HEXP2_1        370 non-null    float64\n",
      " 67  HEXP2_2        370 non-null    float64\n",
      " 68  HEXP2_3        370 non-null    float64\n",
      " 69  HEXP2_4        370 non-null    float64\n",
      " 70  HEXP2_5        370 non-null    float64\n",
      " 71  HEXP2_6        370 non-null    float64\n",
      " 72  HEXP3          370 non-null    float64\n",
      " 73  H_PHI_N        4475 non-null   float64\n",
      " 74  H_FFS_YN       4475 non-null   float64\n",
      "dtypes: float64(75)\n",
      "memory usage: 3.4 MB\n"
     ]
    }
   ],
   "source": [
    "c_hh_df.info()"
   ]
  },
  {
   "cell_type": "markdown",
   "id": "f866f9a0-e82c-46d5-b7b4-ee069df08609",
   "metadata": {},
   "source": [
    "# 겹치는 가구 수 확인해보기"
   ]
  },
  {
   "cell_type": "code",
   "execution_count": 267,
   "id": "d59ff9ae-c83f-4707-85c8-f38e25d9aa05",
   "metadata": {},
   "outputs": [
    {
     "data": {
      "text/plain": [
       "5784"
      ]
     },
     "execution_count": 267,
     "metadata": {},
     "output_type": "execute_result"
    }
   ],
   "source": [
    "# a, b, c -> 세 데이터 프레임에서 겹치는 인덱스 확인\n",
    "common_index = a_hh_df.index.intersection(b_hh_df.index).intersection(c_hh_df.index)\n",
    "common_index.value_counts().sum()"
   ]
  },
  {
   "cell_type": "markdown",
   "id": "2c82cf72-df17-4ca1-a9b7-46c8bc0ec68f",
   "metadata": {},
   "source": [
    "# 필요없는 컬럼 제거 및 모든 컬럼값이 결측인 행 제거하기\n",
    "필요없는 컬럼 제거\n",
    "- 'H_WGC', 'H_WSC' : 가중치 필요 없음\n",
    "- 'HEXP2_1', 'HEXP2_2', ... 'HEXP2_6' : 인원수도 적고 굳이 나눌 필요 없을 것 같다고 생각이 들어 제거"
   ]
  },
  {
   "cell_type": "code",
   "execution_count": 268,
   "id": "19ee5b06-e72b-467a-9c5e-3b44ac6c4801",
   "metadata": {},
   "outputs": [],
   "source": [
    "a_hh_df = a_hh_df.drop(columns=['H_WGC', 'H_WSC', 'HEXP2_1', 'HEXP2_2', 'HEXP2_3', 'HEXP2_4', 'HEXP2_5', 'HEXP2_6'])"
   ]
  },
  {
   "cell_type": "code",
   "execution_count": 269,
   "id": "684c31a7-515b-4a11-a230-744a6e547c4e",
   "metadata": {},
   "outputs": [],
   "source": [
    "b_hh_df = b_hh_df.drop(columns=['H_WGC', 'H_WSC', 'HEXP2_1', 'HEXP2_2', 'HEXP2_3', 'HEXP2_4', 'HEXP2_5', 'HEXP2_6'])"
   ]
  },
  {
   "cell_type": "code",
   "execution_count": 270,
   "id": "0eb9bcee-5dd1-45a8-beca-8f7d99916c68",
   "metadata": {},
   "outputs": [],
   "source": [
    "c_hh_df = c_hh_df.drop(columns=['H_WGC', 'H_WSC', 'HEXP2_1', 'HEXP2_2', 'HEXP2_3', 'HEXP2_4', 'HEXP2_5', 'HEXP2_6'])"
   ]
  },
  {
   "cell_type": "markdown",
   "id": "5424fc5a-b902-43fc-a4a7-ce9be46b66e4",
   "metadata": {},
   "source": [
    "행의 모든 컬럼값이 NaN값인 행 제거"
   ]
  },
  {
   "cell_type": "code",
   "execution_count": 271,
   "id": "15f8ea27-4a6e-4476-9ca7-3b8edf8b8738",
   "metadata": {},
   "outputs": [],
   "source": [
    "a_hh_df = a_hh_df.dropna(how=\"all\")"
   ]
  },
  {
   "cell_type": "code",
   "execution_count": 272,
   "id": "c8979741-42bb-4cae-8d87-458c2b271b27",
   "metadata": {},
   "outputs": [],
   "source": [
    "b_hh_df = b_hh_df.dropna(how=\"all\")"
   ]
  },
  {
   "cell_type": "code",
   "execution_count": 273,
   "id": "387d7ae6-a719-4624-be25-f45c6b6eda4d",
   "metadata": {},
   "outputs": [],
   "source": [
    "c_hh_df = c_hh_df.dropna(how=\"all\")"
   ]
  },
  {
   "cell_type": "code",
   "execution_count": 274,
   "id": "cf06b517-91c1-40b4-bd60-c354cd69f6ed",
   "metadata": {},
   "outputs": [
    {
     "name": "stdout",
     "output_type": "stream",
     "text": [
      "<class 'pandas.core.frame.DataFrame'>\n",
      "Index: 5878 entries, 112001011.0 to 400009011.0\n",
      "Data columns (total 67 columns):\n",
      " #   Column         Non-Null Count  Dtype  \n",
      "---  ------         --------------  -----  \n",
      " 0   DATE_Y         5878 non-null   float64\n",
      " 1   DATE_M         5878 non-null   float64\n",
      " 2   DATE_D         5878 non-null   float64\n",
      " 3   REGION1        5878 non-null   float64\n",
      " 4   REGION2        5878 non-null   float64\n",
      " 5   FAM_N          5878 non-null   float64\n",
      " 6   IND_N          5878 non-null   float64\n",
      " 7   DEATH_YN       5878 non-null   float64\n",
      " 8   ALL_CON        5878 non-null   float64\n",
      " 9   GENERTN        5878 non-null   float64\n",
      " 10  MARR_IMMI_YN   5878 non-null   float64\n",
      " 11  CUSTM_BENF_YN  5878 non-null   float64\n",
      " 12  CUSTM_BENF1_D  463 non-null    float64\n",
      " 13  CUSTM_BENF2_D  463 non-null    float64\n",
      " 14  CUSTM_BENF3_D  463 non-null    float64\n",
      " 15  CUSTM_BENF4_D  463 non-null    float64\n",
      " 16  HOUSE_TY       5878 non-null   float64\n",
      " 17  HOUSE_FLR      5878 non-null   float64\n",
      " 18  H_INC1         5878 non-null   float64\n",
      " 19  H_INC2         5878 non-null   float64\n",
      " 20  H_INC3         5878 non-null   float64\n",
      " 21  H_INC4         5833 non-null   float64\n",
      " 22  H_INC4_1_YN    5878 non-null   float64\n",
      " 23  H_INC4_2_YN    5878 non-null   float64\n",
      " 24  H_INC4_3_YN    5878 non-null   float64\n",
      " 25  H_INC4_4_YN    5878 non-null   float64\n",
      " 26  H_INC4_5_YN    5878 non-null   float64\n",
      " 27  H_INC4_6_YN    5878 non-null   float64\n",
      " 28  H_INC4_7_YN    5878 non-null   float64\n",
      " 29  H_INC4_8_YN    5878 non-null   float64\n",
      " 30  H_INC4_9_YN    5878 non-null   float64\n",
      " 31  H_INC4_10_YN   5878 non-null   float64\n",
      " 32  H_INC4_11_YN   5878 non-null   float64\n",
      " 33  H_INC5         72 non-null     float64\n",
      " 34  H_INC5_1_YN    5878 non-null   float64\n",
      " 35  H_INC5_2_YN    5878 non-null   float64\n",
      " 36  H_INC6         2365 non-null   float64\n",
      " 37  H_INC6_1_YN    5878 non-null   float64\n",
      " 38  H_INC6_2_YN    5878 non-null   float64\n",
      " 39  H_INC7         5878 non-null   float64\n",
      " 40  H_INC_TOT      5878 non-null   float64\n",
      " 41  H_INC_MON      5878 non-null   float64\n",
      " 42  DEBT           5878 non-null   float64\n",
      " 43  PROP           5878 non-null   float64\n",
      " 44  LIV_EXP        5878 non-null   float64\n",
      " 45  LIV_EXP1       5878 non-null   float64\n",
      " 46  LIV_EXP2       5878 non-null   float64\n",
      " 47  NLIV_EXP       5878 non-null   float64\n",
      " 48  OTC_MED        5878 non-null   float64\n",
      " 49  OTC_BUY1       5829 non-null   float64\n",
      " 50  OTC_BUY2       5829 non-null   float64\n",
      " 51  OTC_BUY3       2962 non-null   float64\n",
      " 52  ORI_MED        5878 non-null   float64\n",
      " 53  HLT_SUP1       5878 non-null   float64\n",
      " 54  HLT_SUP2       5878 non-null   float64\n",
      " 55  HLT_SUP_BUY1   3652 non-null   float64\n",
      " 56  HLT_SUP_BUY2   3652 non-null   float64\n",
      " 57  HLT_SUP_BUY3   1276 non-null   float64\n",
      " 58  VIS_SUP        5878 non-null   float64\n",
      " 59  AUD_SUP        5878 non-null   float64\n",
      " 60  MED_SUP        5878 non-null   float64\n",
      " 61  H_OOP          5823 non-null   float64\n",
      " 62  HEXP1          5878 non-null   float64\n",
      " 63  HEXP2          5878 non-null   float64\n",
      " 64  HEXP3          370 non-null    float64\n",
      " 65  H_PHI_N        4475 non-null   float64\n",
      " 66  H_FFS_YN       4475 non-null   float64\n",
      "dtypes: float64(67)\n",
      "memory usage: 3.0 MB\n"
     ]
    }
   ],
   "source": [
    "#a_hh_df.info()\n",
    "#b_hh_df.info()\n",
    "c_hh_df.info()"
   ]
  },
  {
   "cell_type": "markdown",
   "id": "d72a23b1-ab1a-4dac-ac70-6238d9970b4d",
   "metadata": {},
   "source": [
    "# H_INC에 대한 결측치 처리하기"
   ]
  },
  {
   "cell_type": "markdown",
   "id": "54ff864f-8d5b-483e-8686-af19a6d88d9c",
   "metadata": {},
   "source": [
    "## a_hh_df"
   ]
  },
  {
   "cell_type": "markdown",
   "id": "dfa3b93f-a0e9-4031-8e43-e1dddb80d730",
   "metadata": {},
   "source": [
    "### H_INC1~3, H_INC7, H_INC_TOT, H_INC_MON 결측치 처리\n",
    "결측치 개수 확인 -> 결측치의 수가 많지 않으므로 그냥 평균으로 처리\n",
    "- H_INC1 : `73개`\n",
    "- H_INC2 : `11개`\n",
    "- H_INC3 : `0개`\n",
    "- H_INC7 : `3개`\n",
    "- H_INC_TOT, H_INC_MON : `93개` (H_INC_TOT를 12로 나눈 값이 H_INC_MON)\n",
    "- H_INC4, H_INC5, H_INC6 -> -9.0의 결측치 말고 자체 NaN결측치가 많아 나중에 따로 처리"
   ]
  },
  {
   "cell_type": "code",
   "execution_count": 275,
   "id": "ca3f73ba-22f7-4dad-afa4-1cdf9b3ffa4e",
   "metadata": {},
   "outputs": [
    {
     "name": "stdout",
     "output_type": "stream",
     "text": [
      "73\n",
      "11\n",
      "0\n",
      "3\n",
      "93\n",
      "93\n"
     ]
    }
   ],
   "source": [
    "print(len(a_hh_df.loc[a_hh_df['H_INC1'] == -9.0]))\n",
    "print(len(a_hh_df.loc[a_hh_df['H_INC2'] == -9.0]))\n",
    "print(len(a_hh_df.loc[a_hh_df['H_INC3'] == -9.0]))\n",
    "print(len(a_hh_df.loc[a_hh_df['H_INC7'] == -9.0]))\n",
    "print(len(a_hh_df.loc[a_hh_df['H_INC_TOT'] == -9.0]))\n",
    "print(len(a_hh_df.loc[a_hh_df['H_INC_MON'] == -9.0]))"
   ]
  },
  {
   "cell_type": "markdown",
   "id": "104e5407-aebe-4bce-bd5b-6ff5b575d07a",
   "metadata": {},
   "source": [
    "결측값 -9.0을 평균으로 대체하기\n",
    "- 결측값 -9.0을 0으로 바꾼 후에 평균을 구해야 평균이 제대로 나오게 되는데 0으로 바꾸면 원래 0이었던 값과 결측이 처리된 값을 구분할 수 없기 때문에 처음에 0으로 바꿔서 평균을 구한 다음 이후에 처음부터 코드를 한번 더 돌려서 평균 구하는 부분은 주석처리하고 진행\n",
    "    - -9.0을 0으로 바꾼 후 평균을 구한다\n",
    "    - 평균 구하는 부분을 주석처리 후 처음부터 코드 다시 돌린다\n",
    "    - 원래 결측값 -9.0을 평균으로 대체한다\n",
    "\n",
    "평균값 결과 -> 소수점 셋째짜리에서 반올림\n",
    "- a_hh_df['H_INC1'].mean() : 18.00792345642099\n",
    "- a_hh_df['H_INC2'].mean() : 118.11272238002691\n",
    "- a_hh_df['H_INC3'].mean() : 1.5950067274629989\n",
    "- a_hh_df['H_INC7'].mean() : 207.51592166243086\n",
    "- a_hh_df['H_INC_TOT'].mean() : 3748.258783076693\n",
    "- a_hh_df['H_INC_MON'].mean() : 312.3548985897244"
   ]
  },
  {
   "cell_type": "code",
   "execution_count": 276,
   "id": "88389f27-8719-446a-b16b-f8a8132fe334",
   "metadata": {},
   "outputs": [],
   "source": [
    "a_1_mean = 18.01\n",
    "a_2_mean = 118.11\n",
    "a_3_mean = 1.60\n",
    "a_7_mean = 207.52\n",
    "a_tot_mean = 3748.26\n",
    "a_mon_mean = 312.35"
   ]
  },
  {
   "cell_type": "code",
   "execution_count": 277,
   "id": "5f1bf44c-90aa-41d6-a61d-8496f33eae95",
   "metadata": {},
   "outputs": [],
   "source": [
    "a_hh_df['H_INC1'] = a_hh_df['H_INC1'].replace(-9.0, a_1_mean)\n",
    "a_hh_df['H_INC2'] = a_hh_df['H_INC2'].replace(-9.0, a_2_mean)\n",
    "a_hh_df['H_INC3'] = a_hh_df['H_INC3'].replace(-9.0, a_3_mean)\n",
    "a_hh_df['H_INC7'] = a_hh_df['H_INC7'].replace(-9.0, a_7_mean)\n",
    "a_hh_df['H_INC_TOT'] = a_hh_df['H_INC_TOT'].replace(-9.0, a_tot_mean)\n",
    "a_hh_df['H_INC_MON'] = a_hh_df['H_INC_MON'].replace(-9.0, a_mon_mean)"
   ]
  },
  {
   "cell_type": "code",
   "execution_count": 278,
   "id": "d5aac2b4-613c-46b7-924a-fa8064a0e26a",
   "metadata": {},
   "outputs": [
    {
     "name": "stdout",
     "output_type": "stream",
     "text": [
      "0\n",
      "0\n",
      "0\n",
      "0\n",
      "0\n",
      "0\n"
     ]
    }
   ],
   "source": [
    "# 다 결측치 없어졌는 확인하기\n",
    "print(len(a_hh_df.loc[a_hh_df['H_INC1'] == -9.0]))\n",
    "print(len(a_hh_df.loc[a_hh_df['H_INC2'] == -9.0]))\n",
    "print(len(a_hh_df.loc[a_hh_df['H_INC3'] == -9.0]))\n",
    "print(len(a_hh_df.loc[a_hh_df['H_INC7'] == -9.0]))\n",
    "print(len(a_hh_df.loc[a_hh_df['H_INC_TOT'] == -9.0]))\n",
    "print(len(a_hh_df.loc[a_hh_df['H_INC_MON'] == -9.0]))"
   ]
  },
  {
   "cell_type": "code",
   "execution_count": 279,
   "id": "82edc04e-c612-461b-854d-5bcde13e0ca7",
   "metadata": {},
   "outputs": [],
   "source": [
    "# a_1_mean = a_hh_df['H_INC1'].mean()\n",
    "# a_2_mean = a_hh_df['H_INC2'].mean()\n",
    "# a_3_mean = a_hh_df['H_INC3'].mean()\n",
    "# a_7_mean = a_hh_df['H_INC7'].mean()\n",
    "# a_tot_mean = a_hh_df['H_INC_TOT'].mean()\n",
    "# a_mon_mean = a_hh_df['H_INC_MON'].mean()"
   ]
  },
  {
   "cell_type": "markdown",
   "id": "11315d12-3630-424a-80ef-063c1929cc52",
   "metadata": {},
   "source": [
    "### H_INC4~6 결측치 처리\n",
    "H_INC4가 결측치인 사람은 H_INC4_N(1~11)_YN이 모두 무(2.0)인 사람\n",
    "\n",
    "-> 결측치는 정부 및 지자체 소득이 없는 사람이므로 0.0만원으로 처리\n",
    "\n",
    "H_INC5, H_INC6 또한 위와 같이 처리함"
   ]
  },
  {
   "cell_type": "code",
   "execution_count": 280,
   "id": "288ac68a-dfd6-469c-b48e-3bd698fd05c6",
   "metadata": {},
   "outputs": [],
   "source": [
    "a_hh_df['H_INC4'] = a_hh_df['H_INC4'].fillna(0.0)\n",
    "a_hh_df['H_INC5'] = a_hh_df['H_INC5'].fillna(0.0)\n",
    "a_hh_df['H_INC6'] = a_hh_df['H_INC6'].fillna(0.0)"
   ]
  },
  {
   "cell_type": "markdown",
   "id": "52a16788-2f1a-4daf-938b-76fdd21dcf04",
   "metadata": {},
   "source": [
    "## b_hh_df"
   ]
  },
  {
   "cell_type": "markdown",
   "id": "556dbe6c-0f88-4341-a85a-4c6e6b5a628f",
   "metadata": {},
   "source": [
    "### H_INC1~3, H_INC7, H_INC_TOT, H_INC_MON 결측치 처리\n",
    "결측치 개수 확인 -> 결측치의 수가 많지 않으므로 그냥 평균으로 처리\n",
    "- H_INC1 : `10개`\n",
    "- H_INC2 : `1개`\n",
    "- H_INC3 : `0개`\n",
    "- H_INC7 : `1개`\n",
    "- H_INC_TOT, H_INC_MON : `12개` (H_INC_TOT를 12로 나눈 값이 H_INC_MON)\n",
    "- H_INC4, H_INC5, H_INC6 -> -9.0의 결측치 말고 자체 NaN결측치가 많아 나중에 따로 처리"
   ]
  },
  {
   "cell_type": "code",
   "execution_count": 281,
   "id": "aba5bbff-3c2f-42e6-a47e-6d58864bdb11",
   "metadata": {},
   "outputs": [
    {
     "name": "stdout",
     "output_type": "stream",
     "text": [
      "10\n",
      "1\n",
      "0\n",
      "1\n",
      "12\n",
      "12\n"
     ]
    }
   ],
   "source": [
    "print(len(b_hh_df.loc[b_hh_df['H_INC1'] == -9.0]))\n",
    "print(len(b_hh_df.loc[b_hh_df['H_INC2'] == -9.0]))\n",
    "print(len(b_hh_df.loc[b_hh_df['H_INC3'] == -9.0]))\n",
    "print(len(b_hh_df.loc[b_hh_df['H_INC7'] == -9.0]))\n",
    "print(len(b_hh_df.loc[b_hh_df['H_INC_TOT'] == -9.0]))\n",
    "print(len(b_hh_df.loc[b_hh_df['H_INC_MON'] == -9.0]))"
   ]
  },
  {
   "cell_type": "markdown",
   "id": "ea6c0d34-f7f8-4f03-846b-c5ff2473c9da",
   "metadata": {},
   "source": [
    "평균값 결과 -> 소수점 셋째짜리에서 반올림\n",
    "- b_hh_df['H_INC1'].mean() : 24.84345718901454\n",
    "- b_hh_df['H_INC2'].mean() : 125.57802907915993\n",
    "- b_hh_df['H_INC3'].mean() : 0.9967689822294022\n",
    "- b_hh_df['H_INC7'].mean() : 169.59660743134089\n",
    "- b_hh_df['H_INC_TOT'].mean() : 4015.902261712439\n",
    "- b_hh_df['H_INC_MON'].mean() : 334.6585218093699"
   ]
  },
  {
   "cell_type": "code",
   "execution_count": 282,
   "id": "682fba95-149d-4432-95aa-5b943e156a97",
   "metadata": {},
   "outputs": [],
   "source": [
    "b_1_mean = 24.84\n",
    "b_2_mean = 125.58\n",
    "b_3_mean = 1.0\n",
    "b_7_mean = 169.60\n",
    "b_tot_mean = 4015.90\n",
    "b_mon_mean = 334.66"
   ]
  },
  {
   "cell_type": "code",
   "execution_count": 283,
   "id": "508a519e-b79e-4988-8418-acdd4a00e65a",
   "metadata": {},
   "outputs": [],
   "source": [
    "b_hh_df['H_INC1'] = b_hh_df['H_INC1'].replace(-9.0, b_1_mean)\n",
    "b_hh_df['H_INC2'] = b_hh_df['H_INC2'].replace(-9.0, b_2_mean)\n",
    "b_hh_df['H_INC3'] = b_hh_df['H_INC3'].replace(-9.0, b_3_mean)\n",
    "b_hh_df['H_INC7'] = b_hh_df['H_INC7'].replace(-9.0, b_7_mean)\n",
    "b_hh_df['H_INC_TOT'] = b_hh_df['H_INC_TOT'].replace(-9.0, b_tot_mean)\n",
    "b_hh_df['H_INC_MON'] = b_hh_df['H_INC_MON'].replace(-9.0, b_mon_mean)"
   ]
  },
  {
   "cell_type": "code",
   "execution_count": 284,
   "id": "36329f0a-7b5c-4709-b685-5a87cafe584d",
   "metadata": {},
   "outputs": [
    {
     "name": "stdout",
     "output_type": "stream",
     "text": [
      "0\n",
      "0\n",
      "0\n",
      "0\n",
      "0\n",
      "0\n"
     ]
    }
   ],
   "source": [
    "# 다 결측치 없어졌는 확인하기\n",
    "print(len(b_hh_df.loc[b_hh_df['H_INC1'] == -9.0]))\n",
    "print(len(b_hh_df.loc[b_hh_df['H_INC2'] == -9.0]))\n",
    "print(len(b_hh_df.loc[b_hh_df['H_INC3'] == -9.0]))\n",
    "print(len(b_hh_df.loc[b_hh_df['H_INC7'] == -9.0]))\n",
    "print(len(b_hh_df.loc[b_hh_df['H_INC_TOT'] == -9.0]))\n",
    "print(len(b_hh_df.loc[b_hh_df['H_INC_MON'] == -9.0]))"
   ]
  },
  {
   "cell_type": "code",
   "execution_count": 285,
   "id": "8d9d6981-36ef-44bb-be26-9a2550883b0c",
   "metadata": {},
   "outputs": [],
   "source": [
    "# b_1_mean = b_hh_df['H_INC1'].mean()\n",
    "# b_2_mean = b_hh_df['H_INC2'].mean()\n",
    "# b_3_mean = b_hh_df['H_INC3'].mean()\n",
    "# b_7_mean = b_hh_df['H_INC7'].mean()\n",
    "# b_tot_mean = b_hh_df['H_INC_TOT'].mean()\n",
    "# b_mon_mean = b_hh_df['H_INC_MON'].mean()"
   ]
  },
  {
   "cell_type": "markdown",
   "id": "92823c6d-7540-48cd-932e-9083516eafce",
   "metadata": {},
   "source": [
    "### H_INC4~6 결측치 처리\n",
    "H_INC4가 결측치인 사람은 H_INC4_N(1~11)_YN이 모두 무(2.0)인 사람\n",
    "\n",
    "-> 결측치는 정부 및 지자체 소득이 없는 사람이므로 0.0만원으로 처리\n",
    "\n",
    "H_INC5, H_INC6 또한 위와 같이 처리함"
   ]
  },
  {
   "cell_type": "code",
   "execution_count": 286,
   "id": "f16d2fc3-5b39-4825-a805-f9a00e83b74e",
   "metadata": {},
   "outputs": [],
   "source": [
    "b_hh_df['H_INC4'] = b_hh_df['H_INC4'].fillna(0.0)\n",
    "b_hh_df['H_INC5'] = b_hh_df['H_INC5'].fillna(0.0)\n",
    "b_hh_df['H_INC6'] = b_hh_df['H_INC6'].fillna(0.0)"
   ]
  },
  {
   "cell_type": "markdown",
   "id": "7cc054fc-7d91-4dea-8949-716ef76627e3",
   "metadata": {},
   "source": [
    "## c_hh_df"
   ]
  },
  {
   "cell_type": "markdown",
   "id": "1a8c9520-b598-47bb-a9ce-31e8b80fc513",
   "metadata": {},
   "source": [
    "### H_INC1~3, H_INC7, H_INC_TOT, H_INC_MON 결측치 처리\n",
    "결측치 개수 확인 -> 결측치의 수가 많지 않으므로 그냥 평균으로 처리\n",
    "- H_INC1 : `1개`\n",
    "- H_INC2 : `0개`\n",
    "- H_INC3 : `0개`\n",
    "- H_INC7 : `0개`\n",
    "- H_INC_TOT, H_INC_MON : `2개` (H_INC_TOT를 12로 나눈 값이 H_INC_MON)\n",
    "- H_INC4, H_INC5, H_INC6 -> -9.0의 결측치 말고 자체 NaN결측치가 많아 나중에 따로 처리"
   ]
  },
  {
   "cell_type": "code",
   "execution_count": 287,
   "id": "ce03c320-5ba1-4333-a68c-696bd1016df0",
   "metadata": {},
   "outputs": [
    {
     "name": "stdout",
     "output_type": "stream",
     "text": [
      "1\n",
      "0\n",
      "0\n",
      "0\n",
      "2\n",
      "2\n"
     ]
    }
   ],
   "source": [
    "print(len(c_hh_df.loc[c_hh_df['H_INC1'] == -9.0]))\n",
    "print(len(c_hh_df.loc[c_hh_df['H_INC2'] == -9.0]))\n",
    "print(len(c_hh_df.loc[c_hh_df['H_INC3'] == -9.0]))\n",
    "print(len(c_hh_df.loc[c_hh_df['H_INC7'] == -9.0]))\n",
    "print(len(c_hh_df.loc[c_hh_df['H_INC_TOT'] == -9.0]))\n",
    "print(len(c_hh_df.loc[c_hh_df['H_INC_MON'] == -9.0]))"
   ]
  },
  {
   "cell_type": "markdown",
   "id": "5eac9c02-dbfa-4265-ab57-e8c87169abed",
   "metadata": {},
   "source": [
    "평균값 결과 -> 소수점 셋째짜리에서 반올림\n",
    "- c_hh_df['H_INC1'].mean() : 29.66110922082341\n",
    "- c_hh_df['H_INC2'].mean() : 139.38720653283428\n",
    "- c_hh_df['H_INC3'].mean() : 2.354882613133719\n",
    "- c_hh_df['H_INC7'].mean() : 159.2984008166043\n",
    "- c_hh_df['H_INC_TOT'].mean() : 4497.511228308948\n",
    "- c_hh_df['H_INC_MON'].mean() : 374.7926023592026"
   ]
  },
  {
   "cell_type": "code",
   "execution_count": 288,
   "id": "7d7b4226-b790-449b-aa9a-9b51b67abbb8",
   "metadata": {},
   "outputs": [],
   "source": [
    "c_1_mean = 29.66\n",
    "c_2_mean = 139.39\n",
    "c_3_mean = 2.36\n",
    "c_7_mean = 159.30\n",
    "c_tot_mean = 4497.51\n",
    "c_mon_mean = 374.79"
   ]
  },
  {
   "cell_type": "code",
   "execution_count": 289,
   "id": "f4ff4552-9069-4148-ad49-2fea58f535d2",
   "metadata": {},
   "outputs": [],
   "source": [
    "c_hh_df['H_INC1'] = c_hh_df['H_INC1'].replace(-9.0, c_1_mean)\n",
    "c_hh_df['H_INC2'] = c_hh_df['H_INC2'].replace(-9.0, c_2_mean)\n",
    "c_hh_df['H_INC3'] = c_hh_df['H_INC3'].replace(-9.0, c_3_mean)\n",
    "c_hh_df['H_INC7'] = c_hh_df['H_INC7'].replace(-9.0, c_7_mean)\n",
    "c_hh_df['H_INC_TOT'] = c_hh_df['H_INC_TOT'].replace(-9.0, c_tot_mean)\n",
    "c_hh_df['H_INC_MON'] = c_hh_df['H_INC_MON'].replace(-9.0, c_mon_mean)"
   ]
  },
  {
   "cell_type": "code",
   "execution_count": 290,
   "id": "2df159cd-980d-4d8e-bdfc-98bd5b8cb25c",
   "metadata": {},
   "outputs": [
    {
     "name": "stdout",
     "output_type": "stream",
     "text": [
      "0\n",
      "0\n",
      "0\n",
      "0\n",
      "0\n",
      "0\n"
     ]
    }
   ],
   "source": [
    "# 다 결측치 없어졌는 확인하기\n",
    "print(len(c_hh_df.loc[c_hh_df['H_INC1'] == -9.0]))\n",
    "print(len(c_hh_df.loc[c_hh_df['H_INC2'] == -9.0]))\n",
    "print(len(c_hh_df.loc[c_hh_df['H_INC3'] == -9.0]))\n",
    "print(len(c_hh_df.loc[c_hh_df['H_INC7'] == -9.0]))\n",
    "print(len(c_hh_df.loc[c_hh_df['H_INC_TOT'] == -9.0]))\n",
    "print(len(c_hh_df.loc[c_hh_df['H_INC_MON'] == -9.0]))"
   ]
  },
  {
   "cell_type": "code",
   "execution_count": 291,
   "id": "4b5b0ef8-c04f-4a10-aee2-2234cf04f50f",
   "metadata": {},
   "outputs": [],
   "source": [
    "# c_1_mean = c_hh_df['H_INC1'].mean()\n",
    "# c_2_mean = c_hh_df['H_INC2'].mean()\n",
    "# c_3_mean = c_hh_df['H_INC3'].mean()\n",
    "# c_7_mean = c_hh_df['H_INC7'].mean()\n",
    "# c_tot_mean = c_hh_df['H_INC_TOT'].mean()\n",
    "# c_mon_mean = c_hh_df['H_INC_MON'].mean()"
   ]
  },
  {
   "cell_type": "markdown",
   "id": "15069e69-8002-444e-add4-73f592027249",
   "metadata": {},
   "source": [
    "### H_INC4~6 결측치 처리\n",
    "H_INC4가 결측치인 사람은 H_INC4_N(1~11)_YN이 모두 무(2.0)인 사람\n",
    "\n",
    "-> 결측치는 정부 및 지자체 소득이 없는 사람이므로 0.0만원으로 처리\n",
    "\n",
    "H_INC5, H_INC6 또한 위와 같이 처리함"
   ]
  },
  {
   "cell_type": "code",
   "execution_count": 292,
   "id": "11120b76-9e59-48f0-997a-441947f7fa82",
   "metadata": {},
   "outputs": [],
   "source": [
    "c_hh_df['H_INC4'] = c_hh_df['H_INC4'].fillna(0.0)\n",
    "c_hh_df['H_INC5'] = c_hh_df['H_INC5'].fillna(0.0)\n",
    "c_hh_df['H_INC6'] = c_hh_df['H_INC6'].fillna(0.0)"
   ]
  },
  {
   "cell_type": "markdown",
   "id": "d29ab9e0-cda2-4c8c-a3fa-92bab20899c2",
   "metadata": {},
   "source": [
    "# CUSTM_BENF_YN(맞춤형 급여 수급 여부) 정리\n",
    "CUSTM_BENF_YN을 아니요(2)로 체크하면 하위 질문인 CUSTM_BENF1_D, CUSTM_BENF2_D, CUSTM_BENF3_D, CUSTM_BENF4_D는 모두 결측치가 된다\n",
    "\n",
    "=> 따라서 CUSTM_BENF1_D, CUSTM_BENF2_D, CUSTM_BENF3_D, CUSTM_BENF4_D에 결측치로 측정된 결과는 모두 아니요(2)로 처리할 수 있다.\n",
    "\n",
    "`결측치 -> 2.0(아니요)`"
   ]
  },
  {
   "cell_type": "markdown",
   "id": "1f9f889d-4376-4154-b7ac-87b056d7d296",
   "metadata": {},
   "source": [
    "## a_hh_df"
   ]
  },
  {
   "cell_type": "code",
   "execution_count": 293,
   "id": "a40a1be6-3dc3-4d7e-863c-e9ee0c1b5de6",
   "metadata": {},
   "outputs": [],
   "source": [
    "a_hh_df['CUSTM_BENF1_D'] = a_hh_df['CUSTM_BENF1_D'].fillna(2.0)\n",
    "a_hh_df['CUSTM_BENF2_D'] = a_hh_df['CUSTM_BENF2_D'].fillna(2.0)\n",
    "a_hh_df['CUSTM_BENF3_D'] = a_hh_df['CUSTM_BENF3_D'].fillna(2.0)\n",
    "a_hh_df['CUSTM_BENF4_D'] = a_hh_df['CUSTM_BENF4_D'].fillna(2.0)"
   ]
  },
  {
   "cell_type": "markdown",
   "id": "7ae43fa8-ea9b-4748-b0bf-a2585df2b6f4",
   "metadata": {},
   "source": [
    "## b_hh_df"
   ]
  },
  {
   "cell_type": "code",
   "execution_count": 294,
   "id": "c5557f26-502a-4715-9424-71badd065bd7",
   "metadata": {},
   "outputs": [],
   "source": [
    "b_hh_df['CUSTM_BENF1_D'] = b_hh_df['CUSTM_BENF1_D'].fillna(2.0)\n",
    "b_hh_df['CUSTM_BENF2_D'] = b_hh_df['CUSTM_BENF2_D'].fillna(2.0)\n",
    "b_hh_df['CUSTM_BENF3_D'] = b_hh_df['CUSTM_BENF3_D'].fillna(2.0)\n",
    "b_hh_df['CUSTM_BENF4_D'] = b_hh_df['CUSTM_BENF4_D'].fillna(2.0)"
   ]
  },
  {
   "cell_type": "markdown",
   "id": "851ebf38-9c4a-46b4-ab01-4e8b05321af6",
   "metadata": {},
   "source": [
    "## c_hh_df"
   ]
  },
  {
   "cell_type": "code",
   "execution_count": 295,
   "id": "bc1e2e2a-91f0-4915-bca2-ac97473fdb77",
   "metadata": {},
   "outputs": [],
   "source": [
    "c_hh_df['CUSTM_BENF1_D'] = c_hh_df['CUSTM_BENF1_D'].fillna(2.0)\n",
    "c_hh_df['CUSTM_BENF2_D'] = c_hh_df['CUSTM_BENF2_D'].fillna(2.0)\n",
    "c_hh_df['CUSTM_BENF3_D'] = c_hh_df['CUSTM_BENF3_D'].fillna(2.0)\n",
    "c_hh_df['CUSTM_BENF4_D'] = c_hh_df['CUSTM_BENF4_D'].fillna(2.0)"
   ]
  },
  {
   "cell_type": "markdown",
   "id": "d94c87d0-a424-4cc9-9813-7ede6e9380b0",
   "metadata": {},
   "source": [
    "# DEBT, PROP 결측치 처리\n",
    "결측치를 처리하기 전에 결측치 데이터를 포함하고 통계값을 보게되면 결측치(-9.0)때문에 제대로 된 정보가 나오지 않기 때문에 결측치를 제외한 시리즈를 만들고 통계값을 확인해봄"
   ]
  },
  {
   "cell_type": "markdown",
   "id": "bd011ae5-73b0-412d-8773-80757eb34cd7",
   "metadata": {},
   "source": [
    "## a_hh_df"
   ]
  },
  {
   "cell_type": "code",
   "execution_count": 296,
   "id": "3ef9e142-145c-4441-a1ba-456615bfb139",
   "metadata": {},
   "outputs": [],
   "source": [
    "a = a_hh_df.loc[a_hh_df['DEBT'] != -9.0, 'DEBT']\n",
    "b = a_hh_df.loc[a_hh_df['PROP'] != -9.0, 'PROP']"
   ]
  },
  {
   "cell_type": "code",
   "execution_count": 297,
   "id": "8c024ad3-8152-4477-a954-0d40def9163b",
   "metadata": {},
   "outputs": [
    {
     "data": {
      "text/plain": [
       "count     6635.0\n",
       "mean      3876.5\n",
       "std      12726.9\n",
       "min          0.0\n",
       "25%          0.0\n",
       "50%          0.0\n",
       "75%       3000.0\n",
       "max     400000.0\n",
       "Name: DEBT, dtype: float64"
      ]
     },
     "execution_count": 297,
     "metadata": {},
     "output_type": "execute_result"
    }
   ],
   "source": [
    "a.describe()"
   ]
  },
  {
   "cell_type": "code",
   "execution_count": 298,
   "id": "43e856b3-a979-471a-9a64-b868d8509391",
   "metadata": {},
   "outputs": [
    {
     "data": {
      "text/plain": [
       "count     6643.0\n",
       "mean     29476.7\n",
       "std      44505.1\n",
       "min          0.0\n",
       "25%       6000.0\n",
       "50%      18000.0\n",
       "75%      36000.0\n",
       "max     777050.0\n",
       "Name: PROP, dtype: float64"
      ]
     },
     "execution_count": 298,
     "metadata": {},
     "output_type": "execute_result"
    }
   ],
   "source": [
    "b.describe()"
   ]
  },
  {
   "cell_type": "markdown",
   "id": "712d8424-e4fe-444f-8db4-6b219647cdc4",
   "metadata": {},
   "source": [
    "### 데이터 분포 확인을 위한 시각화"
   ]
  },
  {
   "cell_type": "code",
   "execution_count": 299,
   "id": "bf835f97-2d77-445b-a0dc-b6b806041908",
   "metadata": {},
   "outputs": [
    {
     "data": {
      "image/png": "[encoded data removed]",
      "text/plain": [
       "<Figure size 1400x600 with 2 Axes>"
      ]
     },
     "metadata": {},
     "output_type": "display_data"
    }
   ],
   "source": [
    "import seaborn as sns\n",
    "import matplotlib.pyplot as plt\n",
    "\n",
    "fig, axes = plt.subplots(1, 2, figsize=(14, 6))\n",
    "\n",
    "# DEBT 히스토그램\n",
    "sns.histplot(a, bins=30, kde=True, color='blue', ax=axes[0])\n",
    "axes[0].set_title(\"Histogram of DEBT\")\n",
    "axes[0].set_xlabel(\"DEBT\")\n",
    "axes[0].set_ylabel(\"Frequency\")\n",
    "\n",
    "# PROP 히스토그램\n",
    "sns.histplot(b, bins=30, kde=True, color='red', ax=axes[1])\n",
    "axes[1].set_title(\"Histogram of PROP\")\n",
    "axes[1].set_xlabel(\"PROP\")\n",
    "axes[1].set_ylabel(\"Frequency\")\n",
    "\n",
    "plt.tight_layout()\n",
    "plt.show()"
   ]
  },
  {
   "cell_type": "markdown",
   "id": "611b3977-21f1-4245-9c51-cd852b340a7c",
   "metadata": {},
   "source": [
    "### 결측치 채우기\n",
    "DEBT -> 데이터가 오른쪽으로 긴 꼬리를 가진 분포. 중앙값과 평균이 모두 0, 0으로 채우면 절반 이상의 값이 0이라서 데이터의 패턴을 유지하는 데는 좋겠지만 모든 결측치가 0이 되면 의미 있는 정보가 사라질 가능성이 있음. 75% 분위수를 사용하는 것보다 IQR 기반 보정된 값으로 결측치를 채우는 것이 더 의미있다고 판단. (현재 분포가 오른쪽으로 길게 늘어져있기 때문에 75% 분위수가 너무 높은 값으로 측정되어있을 것이라고 판단함)\n",
    "\n",
    "`DEBT 결측치는 IQR 기반 보정된 값으로 채우는 것으로 결정`\n",
    "\n",
    "$IQR = Q3 - Q1$\n",
    "\n",
    "$IQR 기반 보정된 값 = Q1 + 0.5 * IQR$\n",
    "\n",
    "PROP -> 데이터가 오른쪽으로 긴 꼬리를 가진 분포. 평균은 이상치로 인해 많이 높아졌기 때문에 평균보다는 중앙값으로 결측치를 처리하는 것이 좋을 것 같음\n",
    "\n",
    "`PROP 결측치는 중앙값으로 채우는 것으로 결정`"
   ]
  },
  {
   "cell_type": "code",
   "execution_count": 300,
   "id": "c3dd384a-41b1-408d-85e1-f5c000f75300",
   "metadata": {},
   "outputs": [],
   "source": [
    "Q1 = a.quantile(0.25)\n",
    "Q3 = a.quantile(0.75)"
   ]
  },
  {
   "cell_type": "code",
   "execution_count": 301,
   "id": "7f99eb6b-eee5-4a57-95de-ed53fc04c3c5",
   "metadata": {},
   "outputs": [],
   "source": [
    "a_IQR = Q1 + 0.5 * (Q3 - Q1)"
   ]
  },
  {
   "cell_type": "code",
   "execution_count": 302,
   "id": "011d104b-c605-4962-9bd0-c988705b37ea",
   "metadata": {},
   "outputs": [],
   "source": [
    "b_median = b.quantile(0.50)"
   ]
  },
  {
   "cell_type": "code",
   "execution_count": 303,
   "id": "2f3dbea6-5b3d-4e12-b4c8-6c836860b1fb",
   "metadata": {},
   "outputs": [],
   "source": [
    "a_hh_df['DEBT'] = a_hh_df['DEBT'].replace(-9.0, a_IQR)"
   ]
  },
  {
   "cell_type": "code",
   "execution_count": 304,
   "id": "fa1450b8-45e5-4a66-9ead-f30fd0e2dec7",
   "metadata": {},
   "outputs": [],
   "source": [
    "a_hh_df['PROP'] = a_hh_df['PROP'].replace(-9.0, b_median)"
   ]
  },
  {
   "cell_type": "code",
   "execution_count": 305,
   "id": "86a57dba-c0c2-4d7f-a9f6-c9418e62011a",
   "metadata": {},
   "outputs": [
    {
     "data": {
      "text/html": [
       "<div>\n",
       "<style scoped>\n",
       "    .dataframe tbody tr th:only-of-type {\n",
       "        vertical-align: middle;\n",
       "    }\n",
       "\n",
       "    .dataframe tbody tr th {\n",
       "        vertical-align: top;\n",
       "    }\n",
       "\n",
       "    .dataframe thead th {\n",
       "        text-align: right;\n",
       "    }\n",
       "</style>\n",
       "<table border=\"1\" class=\"dataframe\">\n",
       "  <thead>\n",
       "    <tr style=\"text-align: right;\">\n",
       "      <th></th>\n",
       "      <th>DATE_Y</th>\n",
       "      <th>DATE_M</th>\n",
       "      <th>DATE_D</th>\n",
       "      <th>REGION1</th>\n",
       "      <th>REGION2</th>\n",
       "      <th>FAM_N</th>\n",
       "      <th>IND_N</th>\n",
       "      <th>DEATH_YN</th>\n",
       "      <th>ALL_CON</th>\n",
       "      <th>GENERTN</th>\n",
       "      <th>MARR_IMMI_YN</th>\n",
       "      <th>CUSTM_BENF_YN</th>\n",
       "      <th>CUSTM_BENF1_D</th>\n",
       "      <th>CUSTM_BENF2_D</th>\n",
       "      <th>CUSTM_BENF3_D</th>\n",
       "      <th>CUSTM_BENF4_D</th>\n",
       "      <th>HOUSE_TY</th>\n",
       "      <th>HOUSE_FLR</th>\n",
       "      <th>H_INC1</th>\n",
       "      <th>H_INC2</th>\n",
       "      <th>H_INC3</th>\n",
       "      <th>H_INC4</th>\n",
       "      <th>H_INC4_1_YN</th>\n",
       "      <th>H_INC4_2_YN</th>\n",
       "      <th>H_INC4_3_YN</th>\n",
       "      <th>H_INC4_4_YN</th>\n",
       "      <th>H_INC4_5_YN</th>\n",
       "      <th>H_INC4_6_YN</th>\n",
       "      <th>H_INC4_7_YN</th>\n",
       "      <th>H_INC4_8_YN</th>\n",
       "      <th>H_INC4_9_YN</th>\n",
       "      <th>H_INC4_10_YN</th>\n",
       "      <th>H_INC4_11_YN</th>\n",
       "      <th>H_INC5</th>\n",
       "      <th>H_INC5_1_YN</th>\n",
       "      <th>H_INC5_2_YN</th>\n",
       "      <th>H_INC6</th>\n",
       "      <th>H_INC6_1_YN</th>\n",
       "      <th>H_INC6_2_YN</th>\n",
       "      <th>H_INC7</th>\n",
       "      <th>H_INC_TOT</th>\n",
       "      <th>H_INC_MON</th>\n",
       "      <th>DEBT</th>\n",
       "      <th>PROP</th>\n",
       "      <th>LIV_EXP</th>\n",
       "      <th>LIV_EXP1</th>\n",
       "      <th>LIV_EXP2</th>\n",
       "      <th>NLIV_EXP</th>\n",
       "      <th>OTC_MED</th>\n",
       "      <th>OTC_BUY1</th>\n",
       "      <th>OTC_BUY2</th>\n",
       "      <th>OTC_BUY3</th>\n",
       "      <th>ORI_MED</th>\n",
       "      <th>HLT_SUP1</th>\n",
       "      <th>HLT_SUP2</th>\n",
       "      <th>HLT_SUP_BUY1</th>\n",
       "      <th>HLT_SUP_BUY2</th>\n",
       "      <th>HLT_SUP_BUY3</th>\n",
       "      <th>VIS_SUP</th>\n",
       "      <th>AUD_SUP</th>\n",
       "      <th>MED_SUP</th>\n",
       "      <th>H_OOP</th>\n",
       "      <th>HEXP1</th>\n",
       "      <th>HEXP2</th>\n",
       "      <th>HEXP3</th>\n",
       "      <th>H_PHI_N</th>\n",
       "      <th>H_FFS_YN</th>\n",
       "    </tr>\n",
       "    <tr>\n",
       "      <th>HHID</th>\n",
       "      <th></th>\n",
       "      <th></th>\n",
       "      <th></th>\n",
       "      <th></th>\n",
       "      <th></th>\n",
       "      <th></th>\n",
       "      <th></th>\n",
       "      <th></th>\n",
       "      <th></th>\n",
       "      <th></th>\n",
       "      <th></th>\n",
       "      <th></th>\n",
       "      <th></th>\n",
       "      <th></th>\n",
       "      <th></th>\n",
       "      <th></th>\n",
       "      <th></th>\n",
       "      <th></th>\n",
       "      <th></th>\n",
       "      <th></th>\n",
       "      <th></th>\n",
       "      <th></th>\n",
       "      <th></th>\n",
       "      <th></th>\n",
       "      <th></th>\n",
       "      <th></th>\n",
       "      <th></th>\n",
       "      <th></th>\n",
       "      <th></th>\n",
       "      <th></th>\n",
       "      <th></th>\n",
       "      <th></th>\n",
       "      <th></th>\n",
       "      <th></th>\n",
       "      <th></th>\n",
       "      <th></th>\n",
       "      <th></th>\n",
       "      <th></th>\n",
       "      <th></th>\n",
       "      <th></th>\n",
       "      <th></th>\n",
       "      <th></th>\n",
       "      <th></th>\n",
       "      <th></th>\n",
       "      <th></th>\n",
       "      <th></th>\n",
       "      <th></th>\n",
       "      <th></th>\n",
       "      <th></th>\n",
       "      <th></th>\n",
       "      <th></th>\n",
       "      <th></th>\n",
       "      <th></th>\n",
       "      <th></th>\n",
       "      <th></th>\n",
       "      <th></th>\n",
       "      <th></th>\n",
       "      <th></th>\n",
       "      <th></th>\n",
       "      <th></th>\n",
       "      <th></th>\n",
       "      <th></th>\n",
       "      <th></th>\n",
       "      <th></th>\n",
       "      <th></th>\n",
       "      <th></th>\n",
       "      <th></th>\n",
       "    </tr>\n",
       "  </thead>\n",
       "  <tbody>\n",
       "  </tbody>\n",
       "</table>\n",
       "</div>"
      ],
      "text/plain": [
       "Empty DataFrame\n",
       "Columns: [DATE_Y, DATE_M, DATE_D, REGION1, REGION2, FAM_N, IND_N, DEATH_YN, ALL_CON, GENERTN, MARR_IMMI_YN, CUSTM_BENF_YN, CUSTM_BENF1_D, CUSTM_BENF2_D, CUSTM_BENF3_D, CUSTM_BENF4_D, HOUSE_TY, HOUSE_FLR, H_INC1, H_INC2, H_INC3, H_INC4, H_INC4_1_YN, H_INC4_2_YN, H_INC4_3_YN, H_INC4_4_YN, H_INC4_5_YN, H_INC4_6_YN, H_INC4_7_YN, H_INC4_8_YN, H_INC4_9_YN, H_INC4_10_YN, H_INC4_11_YN, H_INC5, H_INC5_1_YN, H_INC5_2_YN, H_INC6, H_INC6_1_YN, H_INC6_2_YN, H_INC7, H_INC_TOT, H_INC_MON, DEBT, PROP, LIV_EXP, LIV_EXP1, LIV_EXP2, NLIV_EXP, OTC_MED, OTC_BUY1, OTC_BUY2, OTC_BUY3, ORI_MED, HLT_SUP1, HLT_SUP2, HLT_SUP_BUY1, HLT_SUP_BUY2, HLT_SUP_BUY3, VIS_SUP, AUD_SUP, MED_SUP, H_OOP, HEXP1, HEXP2, HEXP3, H_PHI_N, H_FFS_YN]\n",
       "Index: []"
      ]
     },
     "execution_count": 305,
     "metadata": {},
     "output_type": "execute_result"
    }
   ],
   "source": [
    "a_hh_df.loc[a_hh_df['DEBT'] == -9.0]"
   ]
  },
  {
   "cell_type": "code",
   "execution_count": 306,
   "id": "3052dea1-e9cc-46a8-869c-563f5b8a1668",
   "metadata": {},
   "outputs": [
    {
     "data": {
      "text/html": [
       "<div>\n",
       "<style scoped>\n",
       "    .dataframe tbody tr th:only-of-type {\n",
       "        vertical-align: middle;\n",
       "    }\n",
       "\n",
       "    .dataframe tbody tr th {\n",
       "        vertical-align: top;\n",
       "    }\n",
       "\n",
       "    .dataframe thead th {\n",
       "        text-align: right;\n",
       "    }\n",
       "</style>\n",
       "<table border=\"1\" class=\"dataframe\">\n",
       "  <thead>\n",
       "    <tr style=\"text-align: right;\">\n",
       "      <th></th>\n",
       "      <th>DATE_Y</th>\n",
       "      <th>DATE_M</th>\n",
       "      <th>DATE_D</th>\n",
       "      <th>REGION1</th>\n",
       "      <th>REGION2</th>\n",
       "      <th>FAM_N</th>\n",
       "      <th>IND_N</th>\n",
       "      <th>DEATH_YN</th>\n",
       "      <th>ALL_CON</th>\n",
       "      <th>GENERTN</th>\n",
       "      <th>MARR_IMMI_YN</th>\n",
       "      <th>CUSTM_BENF_YN</th>\n",
       "      <th>CUSTM_BENF1_D</th>\n",
       "      <th>CUSTM_BENF2_D</th>\n",
       "      <th>CUSTM_BENF3_D</th>\n",
       "      <th>CUSTM_BENF4_D</th>\n",
       "      <th>HOUSE_TY</th>\n",
       "      <th>HOUSE_FLR</th>\n",
       "      <th>H_INC1</th>\n",
       "      <th>H_INC2</th>\n",
       "      <th>H_INC3</th>\n",
       "      <th>H_INC4</th>\n",
       "      <th>H_INC4_1_YN</th>\n",
       "      <th>H_INC4_2_YN</th>\n",
       "      <th>H_INC4_3_YN</th>\n",
       "      <th>H_INC4_4_YN</th>\n",
       "      <th>H_INC4_5_YN</th>\n",
       "      <th>H_INC4_6_YN</th>\n",
       "      <th>H_INC4_7_YN</th>\n",
       "      <th>H_INC4_8_YN</th>\n",
       "      <th>H_INC4_9_YN</th>\n",
       "      <th>H_INC4_10_YN</th>\n",
       "      <th>H_INC4_11_YN</th>\n",
       "      <th>H_INC5</th>\n",
       "      <th>H_INC5_1_YN</th>\n",
       "      <th>H_INC5_2_YN</th>\n",
       "      <th>H_INC6</th>\n",
       "      <th>H_INC6_1_YN</th>\n",
       "      <th>H_INC6_2_YN</th>\n",
       "      <th>H_INC7</th>\n",
       "      <th>H_INC_TOT</th>\n",
       "      <th>H_INC_MON</th>\n",
       "      <th>DEBT</th>\n",
       "      <th>PROP</th>\n",
       "      <th>LIV_EXP</th>\n",
       "      <th>LIV_EXP1</th>\n",
       "      <th>LIV_EXP2</th>\n",
       "      <th>NLIV_EXP</th>\n",
       "      <th>OTC_MED</th>\n",
       "      <th>OTC_BUY1</th>\n",
       "      <th>OTC_BUY2</th>\n",
       "      <th>OTC_BUY3</th>\n",
       "      <th>ORI_MED</th>\n",
       "      <th>HLT_SUP1</th>\n",
       "      <th>HLT_SUP2</th>\n",
       "      <th>HLT_SUP_BUY1</th>\n",
       "      <th>HLT_SUP_BUY2</th>\n",
       "      <th>HLT_SUP_BUY3</th>\n",
       "      <th>VIS_SUP</th>\n",
       "      <th>AUD_SUP</th>\n",
       "      <th>MED_SUP</th>\n",
       "      <th>H_OOP</th>\n",
       "      <th>HEXP1</th>\n",
       "      <th>HEXP2</th>\n",
       "      <th>HEXP3</th>\n",
       "      <th>H_PHI_N</th>\n",
       "      <th>H_FFS_YN</th>\n",
       "    </tr>\n",
       "    <tr>\n",
       "      <th>HHID</th>\n",
       "      <th></th>\n",
       "      <th></th>\n",
       "      <th></th>\n",
       "      <th></th>\n",
       "      <th></th>\n",
       "      <th></th>\n",
       "      <th></th>\n",
       "      <th></th>\n",
       "      <th></th>\n",
       "      <th></th>\n",
       "      <th></th>\n",
       "      <th></th>\n",
       "      <th></th>\n",
       "      <th></th>\n",
       "      <th></th>\n",
       "      <th></th>\n",
       "      <th></th>\n",
       "      <th></th>\n",
       "      <th></th>\n",
       "      <th></th>\n",
       "      <th></th>\n",
       "      <th></th>\n",
       "      <th></th>\n",
       "      <th></th>\n",
       "      <th></th>\n",
       "      <th></th>\n",
       "      <th></th>\n",
       "      <th></th>\n",
       "      <th></th>\n",
       "      <th></th>\n",
       "      <th></th>\n",
       "      <th></th>\n",
       "      <th></th>\n",
       "      <th></th>\n",
       "      <th></th>\n",
       "      <th></th>\n",
       "      <th></th>\n",
       "      <th></th>\n",
       "      <th></th>\n",
       "      <th></th>\n",
       "      <th></th>\n",
       "      <th></th>\n",
       "      <th></th>\n",
       "      <th></th>\n",
       "      <th></th>\n",
       "      <th></th>\n",
       "      <th></th>\n",
       "      <th></th>\n",
       "      <th></th>\n",
       "      <th></th>\n",
       "      <th></th>\n",
       "      <th></th>\n",
       "      <th></th>\n",
       "      <th></th>\n",
       "      <th></th>\n",
       "      <th></th>\n",
       "      <th></th>\n",
       "      <th></th>\n",
       "      <th></th>\n",
       "      <th></th>\n",
       "      <th></th>\n",
       "      <th></th>\n",
       "      <th></th>\n",
       "      <th></th>\n",
       "      <th></th>\n",
       "      <th></th>\n",
       "      <th></th>\n",
       "    </tr>\n",
       "  </thead>\n",
       "  <tbody>\n",
       "  </tbody>\n",
       "</table>\n",
       "</div>"
      ],
      "text/plain": [
       "Empty DataFrame\n",
       "Columns: [DATE_Y, DATE_M, DATE_D, REGION1, REGION2, FAM_N, IND_N, DEATH_YN, ALL_CON, GENERTN, MARR_IMMI_YN, CUSTM_BENF_YN, CUSTM_BENF1_D, CUSTM_BENF2_D, CUSTM_BENF3_D, CUSTM_BENF4_D, HOUSE_TY, HOUSE_FLR, H_INC1, H_INC2, H_INC3, H_INC4, H_INC4_1_YN, H_INC4_2_YN, H_INC4_3_YN, H_INC4_4_YN, H_INC4_5_YN, H_INC4_6_YN, H_INC4_7_YN, H_INC4_8_YN, H_INC4_9_YN, H_INC4_10_YN, H_INC4_11_YN, H_INC5, H_INC5_1_YN, H_INC5_2_YN, H_INC6, H_INC6_1_YN, H_INC6_2_YN, H_INC7, H_INC_TOT, H_INC_MON, DEBT, PROP, LIV_EXP, LIV_EXP1, LIV_EXP2, NLIV_EXP, OTC_MED, OTC_BUY1, OTC_BUY2, OTC_BUY3, ORI_MED, HLT_SUP1, HLT_SUP2, HLT_SUP_BUY1, HLT_SUP_BUY2, HLT_SUP_BUY3, VIS_SUP, AUD_SUP, MED_SUP, H_OOP, HEXP1, HEXP2, HEXP3, H_PHI_N, H_FFS_YN]\n",
       "Index: []"
      ]
     },
     "execution_count": 306,
     "metadata": {},
     "output_type": "execute_result"
    }
   ],
   "source": [
    "a_hh_df.loc[a_hh_df['PROP'] == -9.0]"
   ]
  },
  {
   "cell_type": "code",
   "execution_count": null,
   "id": "a65546fc-062e-45c1-a47e-0662a9f3cda4",
   "metadata": {},
   "outputs": [],
   "source": []
  },
  {
   "cell_type": "code",
   "execution_count": null,
   "id": "2acc37ea-9c1f-422d-8122-b2f9cc93d3b8",
   "metadata": {},
   "outputs": [],
   "source": []
  },
  {
   "cell_type": "code",
   "execution_count": null,
   "id": "c0736e36-9e80-4783-b925-cc3f53e7dd32",
   "metadata": {},
   "outputs": [],
   "source": []
  },
  {
   "cell_type": "code",
   "execution_count": null,
   "id": "a9e4ee00-c24e-4a72-a53a-148fae0bcbb2",
   "metadata": {},
   "outputs": [],
   "source": []
  },
  {
   "cell_type": "markdown",
   "id": "d22b66be-0897-4870-b54c-bdb05a4252f6",
   "metadata": {},
   "source": [
    "# OTC_MED 결측치 처리 \n",
    "**OTC_BUY1, OTC_BUY2, OTC_BUY3**\n",
    "\n",
    "OTC_BUY1과 OTC_BUY2의 결측치는 0.0(구매하지 않음)으로 처리\n",
    "\n",
    "-> OTC_BUY1과 OTC_BUY2는 OTC_MED가 0인 구매하지 않은 사람이기 때문\n",
    "\n",
    "OTC_BUY3는 OTC_MED가 0이거나 구매처가 1순위만 있는 경우의 사람이 섞여 있기 때문에 인덱스에 저장된 사람의 경우 0.0으로 결측치를 처리하고 그 외의 모든 사람들은 구매처가 1순위만 있는 사람들이기 때문에 6.0으로 결측치를 처리한다.\n",
    "\n",
    "이후 OTC_BUY1~3을 가중치 평균을 구한다.\n",
    "\n",
    "OTC_BUY의 모든 값이 0.0인 사람은 가중치 평균에도 0.0으로 채운다.\n",
    "\n",
    "가중치\n",
    "- 1순위 : 3\n",
    "- 2순위 : 2\n",
    "- 3순위 : 1\n",
    "\n",
    "OTC_BUY1, OTC_BUY2, OTC_BUY3를 없애고 `OTC_MED_LIKE_AVG`컬럼 새로만들기\n",
    "\n",
    "DROP `OTC_BUY1`, `OTC_BUY2`, `OTC_BUY3`\n",
    "\n",
    "`OTC_MED_LIKE_AVG` : 일반의약품 및 의약외품 구매처 선호도 가중치 평균"
   ]
  },
  {
   "cell_type": "markdown",
   "id": "f5267c4d-b2a8-4ad5-b1b7-239ef869fda3",
   "metadata": {},
   "source": [
    "## a_hh_df"
   ]
  },
  {
   "cell_type": "code",
   "execution_count": 307,
   "id": "625dfef4-daa8-4de7-b3d1-0134b83e7101",
   "metadata": {},
   "outputs": [],
   "source": [
    "a_hh_df['OTC_BUY1'] = a_hh_df['OTC_BUY1'].fillna(0.0)"
   ]
  },
  {
   "cell_type": "code",
   "execution_count": 308,
   "id": "e3fff133-c282-4eba-9995-7619606fe60c",
   "metadata": {},
   "outputs": [],
   "source": [
    "a_hh_df['OTC_BUY2'] = a_hh_df['OTC_BUY2'].fillna(0.0)"
   ]
  },
  {
   "cell_type": "code",
   "execution_count": 309,
   "id": "8bcb18d2-ee3f-4f3e-87ac-e7dff543f58d",
   "metadata": {},
   "outputs": [],
   "source": [
    "a_hh_df.loc[\n",
    "    (a_hh_df['OTC_BUY3'].isnull()) &\n",
    "    (a_hh_df['OTC_BUY1'] == 0.0) &\n",
    "    (a_hh_df['OTC_BUY2'] == 0.0),\n",
    "    'OTC_BUY3'\n",
    "] = 0.0 "
   ]
  },
  {
   "cell_type": "code",
   "execution_count": 310,
   "id": "b56a6a77-979a-450f-b4bd-93dc34659e75",
   "metadata": {},
   "outputs": [],
   "source": [
    "a_hh_df['OTC_BUY3'] = a_hh_df['OTC_BUY3'].fillna(6.0)"
   ]
  },
  {
   "cell_type": "code",
   "execution_count": 311,
   "id": "3f305505-7ae9-4bfc-b8bc-5c0ce912c2b4",
   "metadata": {},
   "outputs": [
    {
     "data": {
      "text/plain": [
       "OTC_MED_LIKE_AVG\n",
       "4.5    3628\n",
       "3.5    1122\n",
       "3.8     736\n",
       "4.3     200\n",
       "2.8     152\n",
       "3.3     115\n",
       "5.5     114\n",
       "3.2     114\n",
       "6.0      54\n",
       "4.2      29\n",
       "5.0      23\n",
       "4.8      22\n",
       "4.0       9\n",
       "6.5       7\n",
       "2.5       6\n",
       "2.2       4\n",
       "3.0       4\n",
       "5.2       2\n",
       "2.3       1\n",
       "2.7       1\n",
       "Name: count, dtype: int64"
      ]
     },
     "execution_count": 311,
     "metadata": {},
     "output_type": "execute_result"
    }
   ],
   "source": [
    "a_filtered_df = a_hh_df[a_hh_df['OTC_BUY1'] != 0.0]\n",
    "a_weighted_avg = (a_filtered_df['OTC_BUY1'] * 3 + a_filtered_df['OTC_BUY2'] * 2 + a_filtered_df['OTC_BUY3'] * 2) / 6\n",
    "a_hh_df['OTC_MED_LIKE_AVG'] = a_weighted_avg\n",
    "a_hh_df['OTC_MED_LIKE_AVG'].value_counts()"
   ]
  },
  {
   "cell_type": "code",
   "execution_count": 312,
   "id": "7ef4c2b7-afe9-4947-abe2-b662ad0df396",
   "metadata": {},
   "outputs": [],
   "source": [
    "a_hh_df = a_hh_df.drop(columns=['OTC_BUY1', 'OTC_BUY2', 'OTC_BUY3'])"
   ]
  },
  {
   "cell_type": "markdown",
   "id": "8a83b446-2587-4148-9b3c-b03d69f37d11",
   "metadata": {},
   "source": [
    "## b_hh_df"
   ]
  },
  {
   "cell_type": "code",
   "execution_count": 313,
   "id": "b55bbffa-ff5e-43c2-aac9-fc66a7dea675",
   "metadata": {},
   "outputs": [],
   "source": [
    "b_hh_df['OTC_BUY1'] = b_hh_df['OTC_BUY1'].fillna(0.0)"
   ]
  },
  {
   "cell_type": "code",
   "execution_count": 314,
   "id": "138a26ea-2897-4d04-85fa-18d271d2f686",
   "metadata": {},
   "outputs": [],
   "source": [
    "b_hh_df['OTC_BUY2'] = b_hh_df['OTC_BUY2'].fillna(0.0)"
   ]
  },
  {
   "cell_type": "code",
   "execution_count": 315,
   "id": "af3cd8b5-bdce-47bd-9263-caa27e8ce51d",
   "metadata": {},
   "outputs": [],
   "source": [
    "b_hh_df.loc[\n",
    "    (b_hh_df['OTC_BUY3'].isnull()) &\n",
    "    (b_hh_df['OTC_BUY1'] == 0.0) &\n",
    "    (b_hh_df['OTC_BUY2'] == 0.0),\n",
    "    'OTC_BUY3'\n",
    "] = 0.0 "
   ]
  },
  {
   "cell_type": "code",
   "execution_count": 316,
   "id": "a220f2f7-2d73-4592-a018-0805e7e6b2d3",
   "metadata": {},
   "outputs": [],
   "source": [
    "b_hh_df['OTC_BUY3'] = b_hh_df['OTC_BUY3'].fillna(6.0)"
   ]
  },
  {
   "cell_type": "code",
   "execution_count": 317,
   "id": "9fabb6d2-3152-4794-bb08-0e8f1b670a8b",
   "metadata": {},
   "outputs": [
    {
     "data": {
      "text/plain": [
       "OTC_MED_LIKE_AVG\n",
       "4.5    2886\n",
       "3.5     998\n",
       "3.8     761\n",
       "4.3     559\n",
       "3.3     313\n",
       "2.8     286\n",
       "6.0      91\n",
       "3.2      81\n",
       "5.0      40\n",
       "5.5      39\n",
       "4.2      36\n",
       "4.8      23\n",
       "4.0       8\n",
       "6.5       5\n",
       "2.5       5\n",
       "5.7       3\n",
       "2.2       3\n",
       "4.7       2\n",
       "2.3       2\n",
       "5.8       2\n",
       "3.0       1\n",
       "Name: count, dtype: int64"
      ]
     },
     "execution_count": 317,
     "metadata": {},
     "output_type": "execute_result"
    }
   ],
   "source": [
    "b_filtered_df = b_hh_df[b_hh_df['OTC_BUY1'] != 0.0]\n",
    "b_weighted_avg = (b_filtered_df['OTC_BUY1'] * 3 + b_filtered_df['OTC_BUY2'] * 2 + b_filtered_df['OTC_BUY3'] * 2) / 6\n",
    "b_hh_df['OTC_MED_LIKE_AVG'] = b_weighted_avg\n",
    "b_hh_df['OTC_MED_LIKE_AVG'].value_counts()"
   ]
  },
  {
   "cell_type": "code",
   "execution_count": 318,
   "id": "97073bc7-4a04-4e80-84d1-4be80375dd30",
   "metadata": {},
   "outputs": [],
   "source": [
    "b_hh_df = b_hh_df.drop(columns=['OTC_BUY1', 'OTC_BUY2', 'OTC_BUY3'])"
   ]
  },
  {
   "cell_type": "markdown",
   "id": "4819d2f7-a6c3-46d1-841e-2cb78d88c1f1",
   "metadata": {},
   "source": [
    "## c_hh_df"
   ]
  },
  {
   "cell_type": "code",
   "execution_count": 319,
   "id": "85bdc6d0-a892-4766-83f6-f6efb45df3a9",
   "metadata": {},
   "outputs": [],
   "source": [
    "c_hh_df['OTC_BUY1'] = c_hh_df['OTC_BUY1'].fillna(0.0)"
   ]
  },
  {
   "cell_type": "code",
   "execution_count": 320,
   "id": "3e1a4042-0257-4ecb-8e14-c4e4f24a7045",
   "metadata": {},
   "outputs": [],
   "source": [
    "c_hh_df['OTC_BUY2'] = c_hh_df['OTC_BUY2'].fillna(0.0)"
   ]
  },
  {
   "cell_type": "code",
   "execution_count": 321,
   "id": "b256541e-cddf-4124-8828-f33863ab02d4",
   "metadata": {},
   "outputs": [],
   "source": [
    "c_hh_df.loc[\n",
    "    (c_hh_df['OTC_BUY3'].isnull()) &\n",
    "    (c_hh_df['OTC_BUY1'] == 0.0) &\n",
    "    (c_hh_df['OTC_BUY2'] == 0.0),\n",
    "    'OTC_BUY3'\n",
    "] = 0.0 "
   ]
  },
  {
   "cell_type": "code",
   "execution_count": 322,
   "id": "fbb4c754-924e-4a72-8c7e-21de7ba533ad",
   "metadata": {},
   "outputs": [],
   "source": [
    "c_hh_df['OTC_BUY3'] = c_hh_df['OTC_BUY3'].fillna(6.0)"
   ]
  },
  {
   "cell_type": "code",
   "execution_count": 323,
   "id": "c5d8be0c-1287-4125-8949-b873f0637134",
   "metadata": {},
   "outputs": [
    {
     "data": {
      "text/plain": [
       "OTC_MED_LIKE_AVG\n",
       "4.5    2733\n",
       "3.5     872\n",
       "3.8     688\n",
       "4.3     590\n",
       "3.3     408\n",
       "2.8     232\n",
       "6.0      88\n",
       "3.2      76\n",
       "5.0      45\n",
       "5.5      39\n",
       "4.2      22\n",
       "4.8      14\n",
       "3.0       9\n",
       "4.0       6\n",
       "2.5       2\n",
       "5.7       1\n",
       "2.7       1\n",
       "2.2       1\n",
       "4.7       1\n",
       "6.5       1\n",
       "Name: count, dtype: int64"
      ]
     },
     "execution_count": 323,
     "metadata": {},
     "output_type": "execute_result"
    }
   ],
   "source": [
    "c_filtered_df = c_hh_df[c_hh_df['OTC_BUY1'] != 0.0]\n",
    "c_weighted_avg = (c_filtered_df['OTC_BUY1'] * 3 + c_filtered_df['OTC_BUY2'] * 2 + c_filtered_df['OTC_BUY3'] * 2) / 6\n",
    "c_hh_df['OTC_MED_LIKE_AVG'] = c_weighted_avg\n",
    "c_hh_df['OTC_MED_LIKE_AVG'].value_counts()"
   ]
  },
  {
   "cell_type": "code",
   "execution_count": 324,
   "id": "dc1b967d-3ba0-424e-81c7-3928d9e4070f",
   "metadata": {},
   "outputs": [],
   "source": [
    "c_hh_df = c_hh_df.drop(columns=['OTC_BUY1', 'OTC_BUY2', 'OTC_BUY3'])"
   ]
  },
  {
   "cell_type": "markdown",
   "id": "18f3b471-a444-4683-94dc-9d9aa9a2f40e",
   "metadata": {},
   "source": [
    "# HLT_SUP1, HLT_SUP2"
   ]
  },
  {
   "cell_type": "markdown",
   "id": "08e8ab1b-f96b-49cd-9885-f7592742c75e",
   "metadata": {},
   "source": [
    "OTC_MED와 OTC_BUY1~3과 같은 방식으로 처리\n",
    "\n",
    "DROP `HLT_SUP_BUY1`, `HLT_SUP_BUY2`, `HLT_SUP_BUY3`\n",
    "\n",
    "`HLT_SUP_LIKE_AVG` : 건강보조식품 구매처 선호 가중치 평균"
   ]
  },
  {
   "cell_type": "code",
   "execution_count": null,
   "id": "4fff376f-81f6-48a0-82c2-2ddc44762957",
   "metadata": {},
   "outputs": [],
   "source": []
  },
  {
   "cell_type": "markdown",
   "id": "da53c817-393e-469c-8e59-0e0e4bd2bd1c",
   "metadata": {},
   "source": [
    "## a_hh_df"
   ]
  },
  {
   "cell_type": "code",
   "execution_count": null,
   "id": "b30c9812-b00b-469d-93ef-e763d918034e",
   "metadata": {},
   "outputs": [],
   "source": []
  },
  {
   "cell_type": "code",
   "execution_count": 325,
   "id": "19432f4b-2ada-4fe5-81dd-9106c5bcf7a9",
   "metadata": {},
   "outputs": [],
   "source": [
    "a_hh_df['HLT_SUP_BUY1'] = a_hh_df['HLT_SUP_BUY1'].fillna(0.0)"
   ]
  },
  {
   "cell_type": "code",
   "execution_count": null,
   "id": "b719fb3e-e79d-4937-83b3-fceaee307e72",
   "metadata": {},
   "outputs": [],
   "source": []
  },
  {
   "cell_type": "code",
   "execution_count": null,
   "id": "e847fd1c-5188-4608-98b7-9054635f6074",
   "metadata": {},
   "outputs": [],
   "source": []
  },
  {
   "cell_type": "code",
   "execution_count": 326,
   "id": "b58fcf8f-8896-4584-a0fc-6e52a29ade89",
   "metadata": {},
   "outputs": [],
   "source": [
    "a_hh_df['HLT_SUP_BUY2'] = a_hh_df['HLT_SUP_BUY2'].fillna(0.0)"
   ]
  },
  {
   "cell_type": "code",
   "execution_count": 327,
   "id": "302249bc-e677-4d49-8f5b-1a00be57d08c",
   "metadata": {},
   "outputs": [],
   "source": [
    "a_hh_df.loc[\n",
    "    (a_hh_df['HLT_SUP_BUY3'].isnull()) &\n",
    "    (a_hh_df['HLT_SUP_BUY1'] == 0.0) &\n",
    "    (a_hh_df['HLT_SUP_BUY2'] == 0.0),\n",
    "    'HLT_SUP_BUY3'\n",
    "] = 0.0 "
   ]
  },
  {
   "cell_type": "code",
   "execution_count": null,
   "id": "fabba408-8f14-4aa1-b207-85174cef6437",
   "metadata": {},
   "outputs": [],
   "source": []
  },
  {
   "cell_type": "code",
   "execution_count": 328,
   "id": "5e5fa072-8cd7-465a-b94d-e4dc07a6039b",
   "metadata": {},
   "outputs": [],
   "source": [
    "a_hh_df['HLT_SUP_BUY3'] = a_hh_df['HLT_SUP_BUY3'].fillna(6.0)"
   ]
  },
  {
   "cell_type": "code",
   "execution_count": 329,
   "id": "9d436dea-89f1-464a-8e31-b2fd56d9b9d2",
   "metadata": {},
   "outputs": [
    {
     "data": {
      "text/plain": [
       "HLT_SUP_LIKE_AVG\n",
       "6.0    1205\n",
       "4.5     733\n",
       "5.5     409\n",
       "3.8     244\n",
       "4.3     236\n",
       "5.0     182\n",
       "6.5     146\n",
       "4.8     133\n",
       "3.5     104\n",
       "5.7      52\n",
       "3.3      48\n",
       "2.8      31\n",
       "5.8      26\n",
       "3.2      25\n",
       "5.2      16\n",
       "4.0      12\n",
       "4.2      10\n",
       "4.7       8\n",
       "3.0       3\n",
       "2.5       1\n",
       "Name: count, dtype: int64"
      ]
     },
     "execution_count": 329,
     "metadata": {},
     "output_type": "execute_result"
    }
   ],
   "source": [
    "a_filtered_df = a_hh_df[a_hh_df['HLT_SUP_BUY1'] != 0.0]\n",
    "a_weighted_avg = (a_filtered_df['HLT_SUP_BUY1'] * 3 + a_filtered_df['HLT_SUP_BUY2'] * 2 + a_filtered_df['HLT_SUP_BUY3'] * 2) / 6\n",
    "a_hh_df['HLT_SUP_LIKE_AVG'] = a_weighted_avg\n",
    "a_hh_df['HLT_SUP_LIKE_AVG'].value_counts()"
   ]
  },
  {
   "cell_type": "code",
   "execution_count": 330,
   "id": "5d1fbc75-bf42-4ede-9e01-9406563f9a88",
   "metadata": {},
   "outputs": [],
   "source": [
    "a_hh_df = a_hh_df.drop(columns=['HLT_SUP_BUY1', 'HLT_SUP_BUY2', 'HLT_SUP_BUY3'])"
   ]
  },
  {
   "cell_type": "markdown",
   "id": "27ed71a7-b2dc-4b5b-937a-133cf9165e24",
   "metadata": {},
   "source": [
    "## b_hh_df"
   ]
  },
  {
   "cell_type": "code",
   "execution_count": 331,
   "id": "6d7e1633-74b9-4307-8ae7-853fc40bbb43",
   "metadata": {},
   "outputs": [],
   "source": [
    "b_hh_df['HLT_SUP_BUY1'] = b_hh_df['HLT_SUP_BUY1'].fillna(0.0)"
   ]
  },
  {
   "cell_type": "code",
   "execution_count": 332,
   "id": "dc1793ee-b701-4552-9c35-a66d51dc9992",
   "metadata": {},
   "outputs": [],
   "source": [
    "b_hh_df['HLT_SUP_BUY2'] = b_hh_df['HLT_SUP_BUY2'].fillna(0.0)"
   ]
  },
  {
   "cell_type": "code",
   "execution_count": 333,
   "id": "bc87da1d-d66e-4868-b726-6a6b2b2d11ec",
   "metadata": {},
   "outputs": [],
   "source": [
    "b_hh_df.loc[\n",
    "    (b_hh_df['HLT_SUP_BUY3'].isnull()) &\n",
    "    (b_hh_df['HLT_SUP_BUY1'] == 0.0) &\n",
    "    (b_hh_df['HLT_SUP_BUY2'] == 0.0),\n",
    "    'HLT_SUP_BUY3'\n",
    "] = 0.0 "
   ]
  },
  {
   "cell_type": "code",
   "execution_count": 334,
   "id": "4b00da47-6be4-4e0c-bc56-3d68d6575182",
   "metadata": {},
   "outputs": [],
   "source": [
    "b_hh_df['HLT_SUP_BUY3'] = b_hh_df['HLT_SUP_BUY3'].fillna(6.0)"
   ]
  },
  {
   "cell_type": "code",
   "execution_count": 335,
   "id": "cc314ce6-1204-4fe7-9aaa-5a98c8dd998b",
   "metadata": {},
   "outputs": [
    {
     "data": {
      "text/plain": [
       "HLT_SUP_LIKE_AVG\n",
       "6.0    1205\n",
       "4.5     776\n",
       "4.3     334\n",
       "5.5     286\n",
       "3.8     221\n",
       "5.0     179\n",
       "4.8     123\n",
       "6.5      98\n",
       "3.5      96\n",
       "3.3      73\n",
       "5.7      54\n",
       "2.8      25\n",
       "3.2      25\n",
       "4.2      24\n",
       "5.8      15\n",
       "4.0      12\n",
       "4.7       7\n",
       "5.2       1\n",
       "2.7       1\n",
       "3.0       1\n",
       "Name: count, dtype: int64"
      ]
     },
     "execution_count": 335,
     "metadata": {},
     "output_type": "execute_result"
    }
   ],
   "source": [
    "b_filtered_df = b_hh_df[b_hh_df['HLT_SUP_BUY1'] != 0.0]\n",
    "b_weighted_avg = (b_filtered_df['HLT_SUP_BUY1'] * 3 + b_filtered_df['HLT_SUP_BUY2'] * 2 + b_filtered_df['HLT_SUP_BUY3'] * 2) / 6\n",
    "b_hh_df['HLT_SUP_LIKE_AVG'] = b_weighted_avg\n",
    "b_hh_df['HLT_SUP_LIKE_AVG'].value_counts()"
   ]
  },
  {
   "cell_type": "code",
   "execution_count": 336,
   "id": "78f3bd9f-29f9-4c42-9402-4d99e5d1f419",
   "metadata": {},
   "outputs": [],
   "source": [
    "b_hh_df = b_hh_df.drop(columns=['HLT_SUP_BUY1', 'HLT_SUP_BUY2', 'HLT_SUP_BUY3'])"
   ]
  },
  {
   "cell_type": "markdown",
   "id": "dadfef43-e104-41b6-af9d-7f584419d4c1",
   "metadata": {},
   "source": [
    "## c_hh_df"
   ]
  },
  {
   "cell_type": "code",
   "execution_count": 337,
   "id": "3efe9fc8-a76c-4013-b2f6-7a481690a0df",
   "metadata": {},
   "outputs": [],
   "source": [
    "c_hh_df['HLT_SUP_BUY1'] = c_hh_df['HLT_SUP_BUY1'].fillna(0.0)"
   ]
  },
  {
   "cell_type": "code",
   "execution_count": 338,
   "id": "7f8782c6-2039-4b81-aa98-0e995fe123b2",
   "metadata": {},
   "outputs": [],
   "source": [
    "c_hh_df['HLT_SUP_BUY2'] = c_hh_df['HLT_SUP_BUY2'].fillna(0.0)"
   ]
  },
  {
   "cell_type": "code",
   "execution_count": 339,
   "id": "1efe40b6-36f0-4fc7-9646-c4f3dca96f45",
   "metadata": {},
   "outputs": [],
   "source": [
    "c_hh_df.loc[\n",
    "    (c_hh_df['HLT_SUP_BUY3'].isnull()) &\n",
    "    (c_hh_df['HLT_SUP_BUY1'] == 0.0) &\n",
    "    (c_hh_df['HLT_SUP_BUY2'] == 0.0),\n",
    "    'HLT_SUP_BUY3'\n",
    "] = 0.0 "
   ]
  },
  {
   "cell_type": "code",
   "execution_count": 340,
   "id": "ee843ba9-93a8-446e-9749-6e74e3c2fb78",
   "metadata": {},
   "outputs": [],
   "source": [
    "c_hh_df['HLT_SUP_BUY3'] = c_hh_df['HLT_SUP_BUY3'].fillna(6.0)"
   ]
  },
  {
   "cell_type": "code",
   "execution_count": 341,
   "id": "592b4e92-2f99-471f-978b-cba26805c99c",
   "metadata": {},
   "outputs": [
    {
     "data": {
      "text/plain": [
       "HLT_SUP_LIKE_AVG\n",
       "6.0    1239\n",
       "4.5     812\n",
       "4.3     434\n",
       "3.8     237\n",
       "5.5     222\n",
       "5.0     199\n",
       "6.5     105\n",
       "3.5      99\n",
       "4.8      86\n",
       "3.3      55\n",
       "5.7      42\n",
       "4.2      25\n",
       "5.8      22\n",
       "2.8      20\n",
       "3.2      19\n",
       "4.7      13\n",
       "4.0      11\n",
       "5.2       8\n",
       "2.5       2\n",
       "3.7       2\n",
       "Name: count, dtype: int64"
      ]
     },
     "execution_count": 341,
     "metadata": {},
     "output_type": "execute_result"
    }
   ],
   "source": [
    "c_filtered_df = c_hh_df[c_hh_df['HLT_SUP_BUY1'] != 0.0]\n",
    "c_weighted_avg = (c_filtered_df['HLT_SUP_BUY1'] * 3 + c_filtered_df['HLT_SUP_BUY2'] * 2 + c_filtered_df['HLT_SUP_BUY3'] * 2) / 6\n",
    "c_hh_df['HLT_SUP_LIKE_AVG'] = c_weighted_avg\n",
    "c_hh_df['HLT_SUP_LIKE_AVG'].value_counts()"
   ]
  },
  {
   "cell_type": "code",
   "execution_count": 342,
   "id": "6f3b23c3-0a8a-4a7d-af0f-8f89432a033e",
   "metadata": {},
   "outputs": [],
   "source": [
    "c_hh_df = c_hh_df.drop(columns=['HLT_SUP_BUY1', 'HLT_SUP_BUY2', 'HLT_SUP_BUY3'])"
   ]
  },
  {
   "cell_type": "code",
   "execution_count": 343,
   "id": "bd1dde17-1d9d-4c12-ac0c-fe775b2f1980",
   "metadata": {},
   "outputs": [
    {
     "name": "stdout",
     "output_type": "stream",
     "text": [
      "<class 'pandas.core.frame.DataFrame'>\n",
      "Index: 6689 entries, 112001011.0 to 400009011.0\n",
      "Data columns (total 63 columns):\n",
      " #   Column            Non-Null Count  Dtype  \n",
      "---  ------            --------------  -----  \n",
      " 0   DATE_Y            6689 non-null   float64\n",
      " 1   DATE_M            6689 non-null   float64\n",
      " 2   DATE_D            6689 non-null   float64\n",
      " 3   REGION1           6689 non-null   float64\n",
      " 4   REGION2           6689 non-null   float64\n",
      " 5   FAM_N             6689 non-null   float64\n",
      " 6   IND_N             6689 non-null   float64\n",
      " 7   DEATH_YN          6689 non-null   float64\n",
      " 8   ALL_CON           6689 non-null   float64\n",
      " 9   GENERTN           6689 non-null   float64\n",
      " 10  MARR_IMMI_YN      6689 non-null   float64\n",
      " 11  CUSTM_BENF_YN     6689 non-null   float64\n",
      " 12  CUSTM_BENF1_D     6689 non-null   float64\n",
      " 13  CUSTM_BENF2_D     6689 non-null   float64\n",
      " 14  CUSTM_BENF3_D     6689 non-null   float64\n",
      " 15  CUSTM_BENF4_D     6689 non-null   float64\n",
      " 16  HOUSE_TY          6689 non-null   float64\n",
      " 17  HOUSE_FLR         6689 non-null   float64\n",
      " 18  H_INC1            6689 non-null   float64\n",
      " 19  H_INC2            6689 non-null   float64\n",
      " 20  H_INC3            6689 non-null   float64\n",
      " 21  H_INC4            6689 non-null   float64\n",
      " 22  H_INC4_1_YN       6689 non-null   float64\n",
      " 23  H_INC4_2_YN       6689 non-null   float64\n",
      " 24  H_INC4_3_YN       6689 non-null   float64\n",
      " 25  H_INC4_4_YN       6689 non-null   float64\n",
      " 26  H_INC4_5_YN       6689 non-null   float64\n",
      " 27  H_INC4_6_YN       6689 non-null   float64\n",
      " 28  H_INC4_7_YN       6689 non-null   float64\n",
      " 29  H_INC4_8_YN       6689 non-null   float64\n",
      " 30  H_INC4_9_YN       6689 non-null   float64\n",
      " 31  H_INC4_10_YN      6689 non-null   float64\n",
      " 32  H_INC4_11_YN      6689 non-null   float64\n",
      " 33  H_INC5            6689 non-null   float64\n",
      " 34  H_INC5_1_YN       6689 non-null   float64\n",
      " 35  H_INC5_2_YN       6689 non-null   float64\n",
      " 36  H_INC6            6689 non-null   float64\n",
      " 37  H_INC6_1_YN       6689 non-null   float64\n",
      " 38  H_INC6_2_YN       6689 non-null   float64\n",
      " 39  H_INC7            6689 non-null   float64\n",
      " 40  H_INC_TOT         6689 non-null   float64\n",
      " 41  H_INC_MON         6689 non-null   float64\n",
      " 42  DEBT              6689 non-null   float64\n",
      " 43  PROP              6689 non-null   float64\n",
      " 44  LIV_EXP           6689 non-null   float64\n",
      " 45  LIV_EXP1          6689 non-null   float64\n",
      " 46  LIV_EXP2          6689 non-null   float64\n",
      " 47  NLIV_EXP          6689 non-null   float64\n",
      " 48  OTC_MED           6689 non-null   float64\n",
      " 49  ORI_MED           6689 non-null   float64\n",
      " 50  HLT_SUP1          6689 non-null   float64\n",
      " 51  HLT_SUP2          6689 non-null   float64\n",
      " 52  VIS_SUP           6689 non-null   float64\n",
      " 53  AUD_SUP           6689 non-null   float64\n",
      " 54  MED_SUP           6689 non-null   float64\n",
      " 55  H_OOP             6401 non-null   float64\n",
      " 56  HEXP1             6689 non-null   float64\n",
      " 57  HEXP2             6689 non-null   float64\n",
      " 58  HEXP3             492 non-null    float64\n",
      " 59  H_PHI_N           5044 non-null   float64\n",
      " 60  H_FFS_YN          5044 non-null   float64\n",
      " 61  OTC_MED_LIKE_AVG  6343 non-null   float64\n",
      " 62  HLT_SUP_LIKE_AVG  3624 non-null   float64\n",
      "dtypes: float64(63)\n",
      "memory usage: 3.3 MB\n"
     ]
    }
   ],
   "source": [
    "a_hh_df.info()"
   ]
  },
  {
   "cell_type": "markdown",
   "id": "a2cb6dc8-514b-4569-a260-28dd7ce7b93f",
   "metadata": {},
   "source": [
    "# MED_SUP 결측치 처리\n",
    "결측치가 2개 밖에 없으므로 결측치는 0.0으로 처리"
   ]
  },
  {
   "cell_type": "code",
   "execution_count": 344,
   "id": "77b51159-4424-42c5-8006-6685a282cfc3",
   "metadata": {},
   "outputs": [],
   "source": [
    "a_hh_df['MED_SUP'] = a_hh_df['MED_SUP'].fillna(0.0)\n",
    "b_hh_df['MED_SUP'] = b_hh_df['MED_SUP'].fillna(0.0)\n",
    "c_hh_df['MED_SUP'] = c_hh_df['MED_SUP'].fillna(0.0)"
   ]
  },
  {
   "cell_type": "markdown",
   "id": "535b075f-0ac7-425e-a11c-6ac1e42c9480",
   "metadata": {},
   "source": [
    "# H_OOP 결측치 처리\n",
    "의료서비스(응급,입원,외래)를 이용하지 않은 사람들이 결측치로 있기 때문에 이용하지 않으면 비용이 0원이므로 0.0으로 결측치 처리함"
   ]
  },
  {
   "cell_type": "code",
   "execution_count": 345,
   "id": "62a60cfd-fa8d-4fa2-833f-d28e1f1866a9",
   "metadata": {},
   "outputs": [],
   "source": [
    "a_hh_df['H_OOP'] = a_hh_df['H_OOP'].fillna(0.0)\n",
    "b_hh_df['H_OOP'] = b_hh_df['H_OOP'].fillna(0.0)\n",
    "c_hh_df['H_OOP'] = c_hh_df['H_OOP'].fillna(0.0)"
   ]
  },
  {
   "cell_type": "markdown",
   "id": "f6322e63-1da2-4bd0-9ba3-66481e6e99b5",
   "metadata": {},
   "source": [
    "# HEXP2 결측치 처리\n",
    "의료비 지원 여부를 모르는 결측치는 0.0 으로 처리"
   ]
  },
  {
   "cell_type": "code",
   "execution_count": 363,
   "id": "8b6d1110-0dec-4f82-b10d-e48dc3c1b714",
   "metadata": {},
   "outputs": [],
   "source": [
    "a_hh_df['HEXP2'] = a_hh_df['HEXP2'].replace(-9.0, 0.0)\n",
    "b_hh_df['HEXP2'] = b_hh_df['HEXP2'].replace(-9.0, 0.0)\n",
    "c_hh_df['HEXP2'] = c_hh_df['HEXP2'].replace(-9.0, 0.0)"
   ]
  },
  {
   "cell_type": "markdown",
   "id": "dda30718-9c77-4a09-a560-6ddd2e7612b5",
   "metadata": {},
   "source": [
    "# HEXP3 결측치 처리\n",
    "의료비 지원을 받지 않은 사람들이 결측치로 들어가 있어서 결측치를 0.0으로 처리"
   ]
  },
  {
   "cell_type": "code",
   "execution_count": 364,
   "id": "d357a4d9-d43c-4c4b-8aff-f292e2638758",
   "metadata": {},
   "outputs": [],
   "source": [
    "a_hh_df['HEXP3'] = a_hh_df['HEXP3'].fillna(0.0)\n",
    "b_hh_df['HEXP3'] = b_hh_df['HEXP3'].fillna(0.0)\n",
    "c_hh_df['HEXP3'] = c_hh_df['HEXP3'].fillna(0.0)"
   ]
  },
  {
   "cell_type": "markdown",
   "id": "4adcefab-6517-4a0d-a5d0-3e7b86450f37",
   "metadata": {},
   "source": [
    "# H_PHI_N\n",
    "결측치에는 민간의료보험을 가입하지 않거나 응답하지 않은 사람들이 있는데 그냥 보험을 들지 않은 사람들로 간주\n",
    "결측치는 0.0으로 처리"
   ]
  },
  {
   "cell_type": "code",
   "execution_count": 365,
   "id": "92bf658f-4668-4656-8ad3-2320d36d61fa",
   "metadata": {},
   "outputs": [],
   "source": [
    "a_hh_df['H_PHI_N'] = a_hh_df['H_PHI_N'].fillna(0.0)\n",
    "b_hh_df['H_PHI_N'] = b_hh_df['H_PHI_N'].fillna(0.0)\n",
    "c_hh_df['H_PHI_N'] = c_hh_df['H_PHI_N'].fillna(0.0)"
   ]
  },
  {
   "cell_type": "markdown",
   "id": "db3ba8c4-66f5-428c-8f8c-38dae1c3296d",
   "metadata": {},
   "source": [
    "# H_FFS_YN\n",
    "결측치를 어떻게 해야할까.."
   ]
  },
  {
   "cell_type": "markdown",
   "id": "446cd553-9a1a-4bde-a57d-3007f9acff33",
   "metadata": {},
   "source": [
    "# 시각화할 때 한국어 지원"
   ]
  },
  {
   "cell_type": "code",
   "execution_count": 366,
   "id": "b0d590b9-33e2-4b01-8278-d308d92a1a12",
   "metadata": {},
   "outputs": [],
   "source": [
    "import os\n",
    "import warnings\n",
    "import numpy as np\n",
    "import pandas as pd\n",
    "import matplotlib.pyplot as plt\n",
    "import seaborn as sns\n",
    "\n",
    "warnings.filterwarnings('ignore')\n",
    "\n",
    "pd.set_option('display.float_format',  '{:.1f}'.format)\n",
    "pd.set_option('display.max_columns', None)\n",
    "\n",
    "plt.rcParams['font.family'] = \"AppleGothic\""
   ]
  },
  {
   "cell_type": "markdown",
   "id": "d296d012-0e80-4469-9ab2-1e943f9af31c",
   "metadata": {},
   "source": [
    "# 보험 가입 개수에 따른 연간 전체 의료비 지출 비용의 변화\n",
    "보험 가입 개수가 적을수록 의료비 지출의 폭이 더 넓어지는 경향이 있음"
   ]
  },
  {
   "cell_type": "code",
   "execution_count": 367,
   "id": "072cae87-e85a-421b-a96d-5cb906a54438",
   "metadata": {},
   "outputs": [
    {
     "data": {
      "image/png": "[encoded data removed]",
      "text/plain": [
       "<Figure size 1800x600 with 3 Axes>"
      ]
     },
     "metadata": {},
     "output_type": "display_data"
    }
   ],
   "source": [
    "fig, axes = plt.subplots(1, 3, figsize=(18, 6))\n",
    "\n",
    "sns.scatterplot(x=a_hh_df['H_PHI_N'], y=a_hh_df['H_OOP'], palette='Set1', ax=axes[0])\n",
    "axes[0].set_title(\"2019년 데이터\")\n",
    "\n",
    "sns.scatterplot(x=b_hh_df['H_PHI_N'], y=b_hh_df['H_OOP'], palette='Set1', ax=axes[1])\n",
    "axes[1].set_title(\"2019년 데이터\")\n",
    "\n",
    "sns.scatterplot(x=c_hh_df['H_PHI_N'], y=c_hh_df['H_OOP'], palette='Set1', ax=axes[2])\n",
    "axes[2].set_title(\"2019년 데이터\")\n",
    "\n",
    "plt.title(\"Scatter Plot with Seaborn\")\n",
    "plt.show()"
   ]
  },
  {
   "cell_type": "markdown",
   "id": "f9b35084-37d5-47ca-b2a2-ec75dd84c211",
   "metadata": {},
   "source": [
    "# 의료 지원 여부 따른 연간 의료비 지출 비교\n",
    "의료비 지원을 받는 사람들의 의료비 지출비용 평균이 더 높은 것으로 보인다.\n",
    "\n",
    "-> 의료비 지원을 받는 사람들의 특성 때문이 아닐까..\n",
    "\n",
    "일반적으로 의료비 지원을 받는 대상자들은 고령층, 만성질환자 등이 많을 가능성이 있는데 이들은 일반 사람들보다 더 많은 의료 서비스를 이용하기 때문일 것이라고 추측"
   ]
  },
  {
   "cell_type": "code",
   "execution_count": 368,
   "id": "4fda9fed-c8b6-412c-85b7-968356bb4a3a",
   "metadata": {},
   "outputs": [
    {
     "data": {
      "image/png": "[encoded data removed]",
      "text/plain": [
       "<Figure size 1800x600 with 3 Axes>"
      ]
     },
     "metadata": {},
     "output_type": "display_data"
    }
   ],
   "source": [
    "fig, axes = plt.subplots(1, 3, figsize=(18, 6))\n",
    "\n",
    "sns.boxplot(x='HEXP2', y='H_OOP', data=a_hh_df, ax=axes[0])\n",
    "axes[0].set_title(\"2019년\")\n",
    "axes[0].set_xlabel(\"의료비 지원 여부\")\n",
    "axes[0].set_ylabel(\"연간 의료비 지출 비용\")\n",
    "\n",
    "sns.boxplot(x='HEXP2', y='H_OOP', data=b_hh_df, ax=axes[1])\n",
    "axes[1].set_title(\"2020년\")\n",
    "axes[1].set_xlabel(\"의료비 지원 여부\")\n",
    "axes[1].set_ylabel(\"연간 의료비 지출 비용\")\n",
    "\n",
    "sns.boxplot(x='HEXP2', y='H_OOP', data=c_hh_df, ax=axes[2])\n",
    "axes[2].set_title(\"2021년\")\n",
    "axes[2].set_xlabel(\"의료비 지원 여부\")\n",
    "axes[2].set_ylabel(\"연간 의료비 지출 비용\")\n",
    "\n",
    "plt.title(\"의료비 지원 여부에 따른 연간 의료비 지출 비교\")\n",
    "plt.show()"
   ]
  },
  {
   "cell_type": "markdown",
   "id": "87019037-7f6f-4871-b040-1b42db3434eb",
   "metadata": {},
   "source": [
    "# 지출과 부채 및 자산 사이의 상관관계\n",
    "- 소비지출이 크면 식료품비와 외식비도 당연히 커진다\n",
    "- 소비지출이 커질수록 비소비지출도 커지는 경향이 있다"
   ]
  },
  {
   "cell_type": "code",
   "execution_count": 369,
   "id": "65a928a8-580a-464b-bef8-4678a20aac5a",
   "metadata": {},
   "outputs": [],
   "source": [
    "select_col = ['DEBT', 'PROP', 'LIV_EXP', 'LIV_EXP1', 'LIV_EXP2', 'NLIV_EXP']\n",
    "a_corr_matrix = a_hh_df[select_col].corr()\n",
    "b_corr_matrix = b_hh_df[select_col].corr()\n",
    "c_corr_matrix = c_hh_df[select_col].corr()"
   ]
  },
  {
   "cell_type": "code",
   "execution_count": 370,
   "id": "88aa7827-13e6-420f-a9df-6dd23bc97f8c",
   "metadata": {},
   "outputs": [
    {
     "data": {
      "image/png": "[encoded data removed]",
      "text/plain": [
       "<Figure size 1800x600 with 6 Axes>"
      ]
     },
     "metadata": {},
     "output_type": "display_data"
    }
   ],
   "source": [
    "fig, axes = plt.subplots(1, 3, figsize=(18, 6))  # 가로 3개 배치\n",
    "\n",
    "# 첫 번째 히트맵\n",
    "sns.heatmap(a_corr_matrix, annot=True, cmap='coolwarm', fmt=\".2f\", linewidths=0.5, ax=axes[0])\n",
    "axes[0].set_title(\"2019년 데이터\")\n",
    "\n",
    "# 두 번째 히트맵\n",
    "sns.heatmap(b_corr_matrix, annot=True, cmap='coolwarm', fmt=\".2f\", linewidths=0.5, ax=axes[1])\n",
    "axes[1].set_title(\"2020년 데이터\")\n",
    "\n",
    "# 세 번째 히트맵\n",
    "sns.heatmap(c_corr_matrix, annot=True, cmap='coolwarm', fmt=\".2f\", linewidths=0.5, ax=axes[2])\n",
    "axes[2].set_title(\"2021년 데이터\")\n",
    "\n",
    "# 그래프 간격 조정\n",
    "plt.tight_layout()\n",
    "plt.title(\"지출과 부채 및 자산 사이의 상관관계\")\n",
    "plt.show()"
   ]
  },
  {
   "cell_type": "code",
   "execution_count": null,
   "id": "2c44f904-1bf1-4d8e-a0e0-4ed9466e5206",
   "metadata": {},
   "outputs": [],
   "source": []
  },
  {
   "cell_type": "code",
   "execution_count": null,
   "id": "513045b9-9c2a-4908-92cf-e4547f3c3cca",
   "metadata": {},
   "outputs": [],
   "source": []
  },
  {
   "cell_type": "code",
   "execution_count": null,
   "id": "b27cfb43-5a6e-4413-87f7-be853bab25d7",
   "metadata": {},
   "outputs": [],
   "source": []
  },
  {
   "cell_type": "code",
   "execution_count": null,
   "id": "bc7187a2-7cb3-4dd4-9ad1-f34fb5c36206",
   "metadata": {},
   "outputs": [],
   "source": []
  },
  {
   "cell_type": "code",
   "execution_count": null,
   "id": "0a3a9f0d-8cd9-4444-9379-1fec8f01f96d",
   "metadata": {},
   "outputs": [],
   "source": []
  },
  {
   "cell_type": "code",
   "execution_count": null,
   "id": "175f1e79-d879-45ff-9f9b-7b04506ac68e",
   "metadata": {},
   "outputs": [],
   "source": []
  },
  {
   "cell_type": "code",
   "execution_count": null,
   "id": "e6257251-5144-4ff2-939c-dbc5f4592f36",
   "metadata": {},
   "outputs": [],
   "source": []
  },
  {
   "cell_type": "code",
   "execution_count": null,
   "id": "b40dfa9a-270a-436a-a158-d5f8273dc053",
   "metadata": {},
   "outputs": [],
   "source": []
  },
  {
   "cell_type": "code",
   "execution_count": null,
   "id": "4a55b97d-f963-4026-9f02-ce923f26d536",
   "metadata": {},
   "outputs": [],
   "source": []
  },
  {
   "cell_type": "code",
   "execution_count": null,
   "id": "5d5c0dd7-852f-49ae-941b-9aa942421558",
   "metadata": {},
   "outputs": [],
   "source": []
  }
 ],
 "metadata": {
  "kernelspec": {
   "display_name": "Python 3 (ipykernel)",
   "language": "python",
   "name": "python3"
  },
  "language_info": {
   "codemirror_mode": {
    "name": "ipython",
    "version": 3
   },
   "file_extension": ".py",
   "mimetype": "text/x-python",
   "name": "python",
   "nbconvert_exporter": "python",
   "pygments_lexer": "ipython3",
   "version": "3.12.7"
  }
 },
 "nbformat": 4,
 "nbformat_minor": 5
}
